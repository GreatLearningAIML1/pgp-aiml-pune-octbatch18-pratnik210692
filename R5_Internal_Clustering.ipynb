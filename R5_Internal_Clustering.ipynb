{
 "cells": [
  {
   "cell_type": "markdown",
   "metadata": {},
   "source": [
    "### The data set has information about features of silhouette extracted from the images of different cars\n",
    "\n",
    "Four \"Corgie\" model vehicles were used for the experiment: a double decker bus, Cheverolet van, Saab 9000 and an Opel Manta 400 cars. This particular combination of vehicles was chosen with the expectation that the bus, van and either one of the cars would be readily distinguishable, but it would be more difficult to distinguish between the cars.\n",
    "\n"
   ]
  },
  {
   "cell_type": "code",
   "execution_count": 1,
   "metadata": {},
   "outputs": [],
   "source": [
    "from matplotlib import pyplot as plt\n",
    "from scipy.cluster.hierarchy import dendrogram, linkage\n",
    "import numpy as np\n",
    "#Import all the necessary modules\n",
    "#Import all the necessary modules\n",
    "import matplotlib.pyplot as plt\n",
    "import numpy as np\n",
    "import pandas as pd\n",
    "from sklearn import decomposition\n",
    "from sklearn.preprocessing import scale\n",
    "from sklearn.decomposition import PCA\n",
    "import seaborn as sns\n",
    "%matplotlib inline\n",
    "from sklearn.preprocessing import StandardScaler"
   ]
  },
  {
   "cell_type": "markdown",
   "metadata": {},
   "source": [
    "### 1. Read the dataset using function .dropna() - to avoid dealing with NAs as of now"
   ]
  },
  {
   "cell_type": "code",
   "execution_count": 2,
   "metadata": {
    "scrolled": true
   },
   "outputs": [
    {
     "data": {
      "text/html": [
       "<div>\n",
       "<style scoped>\n",
       "    .dataframe tbody tr th:only-of-type {\n",
       "        vertical-align: middle;\n",
       "    }\n",
       "\n",
       "    .dataframe tbody tr th {\n",
       "        vertical-align: top;\n",
       "    }\n",
       "\n",
       "    .dataframe thead th {\n",
       "        text-align: right;\n",
       "    }\n",
       "</style>\n",
       "<table border=\"1\" class=\"dataframe\">\n",
       "  <thead>\n",
       "    <tr style=\"text-align: right;\">\n",
       "      <th></th>\n",
       "      <th>compactness</th>\n",
       "      <th>circularity</th>\n",
       "      <th>distance_circularity</th>\n",
       "      <th>radius_ratio</th>\n",
       "      <th>pr.axis_aspect_ratio</th>\n",
       "      <th>max.length_aspect_ratio</th>\n",
       "      <th>scatter_ratio</th>\n",
       "      <th>elongatedness</th>\n",
       "      <th>pr.axis_rectangularity</th>\n",
       "      <th>max.length_rectangularity</th>\n",
       "      <th>scaled_variance</th>\n",
       "      <th>scaled_variance.1</th>\n",
       "      <th>scaled_radius_of_gyration</th>\n",
       "      <th>scaled_radius_of_gyration.1</th>\n",
       "      <th>skewness_about</th>\n",
       "      <th>skewness_about.1</th>\n",
       "      <th>skewness_about.2</th>\n",
       "      <th>hollows_ratio</th>\n",
       "      <th>class</th>\n",
       "    </tr>\n",
       "  </thead>\n",
       "  <tbody>\n",
       "    <tr>\n",
       "      <th>0</th>\n",
       "      <td>95</td>\n",
       "      <td>48.0</td>\n",
       "      <td>83.0</td>\n",
       "      <td>178.0</td>\n",
       "      <td>72.0</td>\n",
       "      <td>10</td>\n",
       "      <td>162.0</td>\n",
       "      <td>42.0</td>\n",
       "      <td>20.0</td>\n",
       "      <td>159</td>\n",
       "      <td>176.0</td>\n",
       "      <td>379.0</td>\n",
       "      <td>184.0</td>\n",
       "      <td>70.0</td>\n",
       "      <td>6.0</td>\n",
       "      <td>16.0</td>\n",
       "      <td>187.0</td>\n",
       "      <td>197</td>\n",
       "      <td>van</td>\n",
       "    </tr>\n",
       "    <tr>\n",
       "      <th>1</th>\n",
       "      <td>91</td>\n",
       "      <td>41.0</td>\n",
       "      <td>84.0</td>\n",
       "      <td>141.0</td>\n",
       "      <td>57.0</td>\n",
       "      <td>9</td>\n",
       "      <td>149.0</td>\n",
       "      <td>45.0</td>\n",
       "      <td>19.0</td>\n",
       "      <td>143</td>\n",
       "      <td>170.0</td>\n",
       "      <td>330.0</td>\n",
       "      <td>158.0</td>\n",
       "      <td>72.0</td>\n",
       "      <td>9.0</td>\n",
       "      <td>14.0</td>\n",
       "      <td>189.0</td>\n",
       "      <td>199</td>\n",
       "      <td>van</td>\n",
       "    </tr>\n",
       "    <tr>\n",
       "      <th>2</th>\n",
       "      <td>104</td>\n",
       "      <td>50.0</td>\n",
       "      <td>106.0</td>\n",
       "      <td>209.0</td>\n",
       "      <td>66.0</td>\n",
       "      <td>10</td>\n",
       "      <td>207.0</td>\n",
       "      <td>32.0</td>\n",
       "      <td>23.0</td>\n",
       "      <td>158</td>\n",
       "      <td>223.0</td>\n",
       "      <td>635.0</td>\n",
       "      <td>220.0</td>\n",
       "      <td>73.0</td>\n",
       "      <td>14.0</td>\n",
       "      <td>9.0</td>\n",
       "      <td>188.0</td>\n",
       "      <td>196</td>\n",
       "      <td>car</td>\n",
       "    </tr>\n",
       "    <tr>\n",
       "      <th>3</th>\n",
       "      <td>93</td>\n",
       "      <td>41.0</td>\n",
       "      <td>82.0</td>\n",
       "      <td>159.0</td>\n",
       "      <td>63.0</td>\n",
       "      <td>9</td>\n",
       "      <td>144.0</td>\n",
       "      <td>46.0</td>\n",
       "      <td>19.0</td>\n",
       "      <td>143</td>\n",
       "      <td>160.0</td>\n",
       "      <td>309.0</td>\n",
       "      <td>127.0</td>\n",
       "      <td>63.0</td>\n",
       "      <td>6.0</td>\n",
       "      <td>10.0</td>\n",
       "      <td>199.0</td>\n",
       "      <td>207</td>\n",
       "      <td>van</td>\n",
       "    </tr>\n",
       "    <tr>\n",
       "      <th>4</th>\n",
       "      <td>85</td>\n",
       "      <td>44.0</td>\n",
       "      <td>70.0</td>\n",
       "      <td>205.0</td>\n",
       "      <td>103.0</td>\n",
       "      <td>52</td>\n",
       "      <td>149.0</td>\n",
       "      <td>45.0</td>\n",
       "      <td>19.0</td>\n",
       "      <td>144</td>\n",
       "      <td>241.0</td>\n",
       "      <td>325.0</td>\n",
       "      <td>188.0</td>\n",
       "      <td>127.0</td>\n",
       "      <td>9.0</td>\n",
       "      <td>11.0</td>\n",
       "      <td>180.0</td>\n",
       "      <td>183</td>\n",
       "      <td>bus</td>\n",
       "    </tr>\n",
       "    <tr>\n",
       "      <th>5</th>\n",
       "      <td>107</td>\n",
       "      <td>NaN</td>\n",
       "      <td>106.0</td>\n",
       "      <td>172.0</td>\n",
       "      <td>50.0</td>\n",
       "      <td>6</td>\n",
       "      <td>255.0</td>\n",
       "      <td>26.0</td>\n",
       "      <td>28.0</td>\n",
       "      <td>169</td>\n",
       "      <td>280.0</td>\n",
       "      <td>957.0</td>\n",
       "      <td>264.0</td>\n",
       "      <td>85.0</td>\n",
       "      <td>5.0</td>\n",
       "      <td>9.0</td>\n",
       "      <td>181.0</td>\n",
       "      <td>183</td>\n",
       "      <td>bus</td>\n",
       "    </tr>\n",
       "    <tr>\n",
       "      <th>6</th>\n",
       "      <td>97</td>\n",
       "      <td>43.0</td>\n",
       "      <td>73.0</td>\n",
       "      <td>173.0</td>\n",
       "      <td>65.0</td>\n",
       "      <td>6</td>\n",
       "      <td>153.0</td>\n",
       "      <td>42.0</td>\n",
       "      <td>19.0</td>\n",
       "      <td>143</td>\n",
       "      <td>176.0</td>\n",
       "      <td>361.0</td>\n",
       "      <td>172.0</td>\n",
       "      <td>66.0</td>\n",
       "      <td>13.0</td>\n",
       "      <td>1.0</td>\n",
       "      <td>200.0</td>\n",
       "      <td>204</td>\n",
       "      <td>bus</td>\n",
       "    </tr>\n",
       "    <tr>\n",
       "      <th>7</th>\n",
       "      <td>90</td>\n",
       "      <td>43.0</td>\n",
       "      <td>66.0</td>\n",
       "      <td>157.0</td>\n",
       "      <td>65.0</td>\n",
       "      <td>9</td>\n",
       "      <td>137.0</td>\n",
       "      <td>48.0</td>\n",
       "      <td>18.0</td>\n",
       "      <td>146</td>\n",
       "      <td>162.0</td>\n",
       "      <td>281.0</td>\n",
       "      <td>164.0</td>\n",
       "      <td>67.0</td>\n",
       "      <td>3.0</td>\n",
       "      <td>3.0</td>\n",
       "      <td>193.0</td>\n",
       "      <td>202</td>\n",
       "      <td>van</td>\n",
       "    </tr>\n",
       "    <tr>\n",
       "      <th>8</th>\n",
       "      <td>86</td>\n",
       "      <td>34.0</td>\n",
       "      <td>62.0</td>\n",
       "      <td>140.0</td>\n",
       "      <td>61.0</td>\n",
       "      <td>7</td>\n",
       "      <td>122.0</td>\n",
       "      <td>54.0</td>\n",
       "      <td>17.0</td>\n",
       "      <td>127</td>\n",
       "      <td>141.0</td>\n",
       "      <td>223.0</td>\n",
       "      <td>112.0</td>\n",
       "      <td>64.0</td>\n",
       "      <td>2.0</td>\n",
       "      <td>14.0</td>\n",
       "      <td>200.0</td>\n",
       "      <td>208</td>\n",
       "      <td>van</td>\n",
       "    </tr>\n",
       "    <tr>\n",
       "      <th>9</th>\n",
       "      <td>93</td>\n",
       "      <td>44.0</td>\n",
       "      <td>98.0</td>\n",
       "      <td>NaN</td>\n",
       "      <td>62.0</td>\n",
       "      <td>11</td>\n",
       "      <td>183.0</td>\n",
       "      <td>36.0</td>\n",
       "      <td>22.0</td>\n",
       "      <td>146</td>\n",
       "      <td>202.0</td>\n",
       "      <td>505.0</td>\n",
       "      <td>152.0</td>\n",
       "      <td>64.0</td>\n",
       "      <td>4.0</td>\n",
       "      <td>14.0</td>\n",
       "      <td>195.0</td>\n",
       "      <td>204</td>\n",
       "      <td>car</td>\n",
       "    </tr>\n",
       "  </tbody>\n",
       "</table>\n",
       "</div>"
      ],
      "text/plain": [
       "   compactness  circularity  distance_circularity  radius_ratio  \\\n",
       "0           95         48.0                  83.0         178.0   \n",
       "1           91         41.0                  84.0         141.0   \n",
       "2          104         50.0                 106.0         209.0   \n",
       "3           93         41.0                  82.0         159.0   \n",
       "4           85         44.0                  70.0         205.0   \n",
       "5          107          NaN                 106.0         172.0   \n",
       "6           97         43.0                  73.0         173.0   \n",
       "7           90         43.0                  66.0         157.0   \n",
       "8           86         34.0                  62.0         140.0   \n",
       "9           93         44.0                  98.0           NaN   \n",
       "\n",
       "   pr.axis_aspect_ratio  max.length_aspect_ratio  scatter_ratio  \\\n",
       "0                  72.0                       10          162.0   \n",
       "1                  57.0                        9          149.0   \n",
       "2                  66.0                       10          207.0   \n",
       "3                  63.0                        9          144.0   \n",
       "4                 103.0                       52          149.0   \n",
       "5                  50.0                        6          255.0   \n",
       "6                  65.0                        6          153.0   \n",
       "7                  65.0                        9          137.0   \n",
       "8                  61.0                        7          122.0   \n",
       "9                  62.0                       11          183.0   \n",
       "\n",
       "   elongatedness  pr.axis_rectangularity  max.length_rectangularity  \\\n",
       "0           42.0                    20.0                        159   \n",
       "1           45.0                    19.0                        143   \n",
       "2           32.0                    23.0                        158   \n",
       "3           46.0                    19.0                        143   \n",
       "4           45.0                    19.0                        144   \n",
       "5           26.0                    28.0                        169   \n",
       "6           42.0                    19.0                        143   \n",
       "7           48.0                    18.0                        146   \n",
       "8           54.0                    17.0                        127   \n",
       "9           36.0                    22.0                        146   \n",
       "\n",
       "   scaled_variance  scaled_variance.1  scaled_radius_of_gyration  \\\n",
       "0            176.0              379.0                      184.0   \n",
       "1            170.0              330.0                      158.0   \n",
       "2            223.0              635.0                      220.0   \n",
       "3            160.0              309.0                      127.0   \n",
       "4            241.0              325.0                      188.0   \n",
       "5            280.0              957.0                      264.0   \n",
       "6            176.0              361.0                      172.0   \n",
       "7            162.0              281.0                      164.0   \n",
       "8            141.0              223.0                      112.0   \n",
       "9            202.0              505.0                      152.0   \n",
       "\n",
       "   scaled_radius_of_gyration.1  skewness_about  skewness_about.1  \\\n",
       "0                         70.0             6.0              16.0   \n",
       "1                         72.0             9.0              14.0   \n",
       "2                         73.0            14.0               9.0   \n",
       "3                         63.0             6.0              10.0   \n",
       "4                        127.0             9.0              11.0   \n",
       "5                         85.0             5.0               9.0   \n",
       "6                         66.0            13.0               1.0   \n",
       "7                         67.0             3.0               3.0   \n",
       "8                         64.0             2.0              14.0   \n",
       "9                         64.0             4.0              14.0   \n",
       "\n",
       "   skewness_about.2  hollows_ratio class  \n",
       "0             187.0            197   van  \n",
       "1             189.0            199   van  \n",
       "2             188.0            196   car  \n",
       "3             199.0            207   van  \n",
       "4             180.0            183   bus  \n",
       "5             181.0            183   bus  \n",
       "6             200.0            204   bus  \n",
       "7             193.0            202   van  \n",
       "8             200.0            208   van  \n",
       "9             195.0            204   car  "
      ]
     },
     "execution_count": 2,
     "metadata": {},
     "output_type": "execute_result"
    }
   ],
   "source": [
    "data = pd.read_csv(\"vehicle.csv\")\n",
    "data.head(10)"
   ]
  },
  {
   "cell_type": "code",
   "execution_count": 3,
   "metadata": {},
   "outputs": [],
   "source": [
    "vehicle = data.dropna()"
   ]
  },
  {
   "cell_type": "code",
   "execution_count": 4,
   "metadata": {},
   "outputs": [
    {
     "data": {
      "text/plain": [
       "compactness                      int64\n",
       "circularity                    float64\n",
       "distance_circularity           float64\n",
       "radius_ratio                   float64\n",
       "pr.axis_aspect_ratio           float64\n",
       "max.length_aspect_ratio          int64\n",
       "scatter_ratio                  float64\n",
       "elongatedness                  float64\n",
       "pr.axis_rectangularity         float64\n",
       "max.length_rectangularity        int64\n",
       "scaled_variance                float64\n",
       "scaled_variance.1              float64\n",
       "scaled_radius_of_gyration      float64\n",
       "scaled_radius_of_gyration.1    float64\n",
       "skewness_about                 float64\n",
       "skewness_about.1               float64\n",
       "skewness_about.2               float64\n",
       "hollows_ratio                    int64\n",
       "class                           object\n",
       "dtype: object"
      ]
     },
     "execution_count": 4,
     "metadata": {},
     "output_type": "execute_result"
    }
   ],
   "source": [
    "vehicle.dtypes"
   ]
  },
  {
   "cell_type": "markdown",
   "metadata": {},
   "source": [
    "### 2. Print/ Plot the dependent (categorical variable) - Class column"
   ]
  },
  {
   "cell_type": "markdown",
   "metadata": {},
   "source": [
    "Since the variable is categorical, you can use value_counts function"
   ]
  },
  {
   "cell_type": "code",
   "execution_count": 5,
   "metadata": {},
   "outputs": [
    {
     "data": {
      "text/plain": [
       "<matplotlib.axes._subplots.AxesSubplot at 0xac9f0f0>"
      ]
     },
     "execution_count": 5,
     "metadata": {},
     "output_type": "execute_result"
    },
    {
     "data": {
      "image/png": "[encoded data removed]",
      "text/plain": [
       "<Figure size 432x288 with 1 Axes>"
      ]
     },
     "metadata": {
      "needs_background": "light"
     },
     "output_type": "display_data"
    }
   ],
   "source": [
    "vehicle['class'].value_counts().plot(kind='bar')"
   ]
  },
  {
   "cell_type": "markdown",
   "metadata": {},
   "source": [
    "### Check for any missing values in the data "
   ]
  },
  {
   "cell_type": "code",
   "execution_count": 6,
   "metadata": {},
   "outputs": [
    {
     "data": {
      "text/plain": [
       "compactness                    0\n",
       "circularity                    0\n",
       "distance_circularity           0\n",
       "radius_ratio                   0\n",
       "pr.axis_aspect_ratio           0\n",
       "max.length_aspect_ratio        0\n",
       "scatter_ratio                  0\n",
       "elongatedness                  0\n",
       "pr.axis_rectangularity         0\n",
       "max.length_rectangularity      0\n",
       "scaled_variance                0\n",
       "scaled_variance.1              0\n",
       "scaled_radius_of_gyration      0\n",
       "scaled_radius_of_gyration.1    0\n",
       "skewness_about                 0\n",
       "skewness_about.1               0\n",
       "skewness_about.2               0\n",
       "hollows_ratio                  0\n",
       "class                          0\n",
       "dtype: int64"
      ]
     },
     "execution_count": 6,
     "metadata": {},
     "output_type": "execute_result"
    }
   ],
   "source": [
    "vehicle.isna().sum()"
   ]
  },
  {
   "cell_type": "markdown",
   "metadata": {},
   "source": [
    "### 3. Standardize the data "
   ]
  },
  {
   "cell_type": "code",
   "execution_count": 7,
   "metadata": {},
   "outputs": [
    {
     "data": {
      "text/html": [
       "<div>\n",
       "<style scoped>\n",
       "    .dataframe tbody tr th:only-of-type {\n",
       "        vertical-align: middle;\n",
       "    }\n",
       "\n",
       "    .dataframe tbody tr th {\n",
       "        vertical-align: top;\n",
       "    }\n",
       "\n",
       "    .dataframe thead th {\n",
       "        text-align: right;\n",
       "    }\n",
       "</style>\n",
       "<table border=\"1\" class=\"dataframe\">\n",
       "  <thead>\n",
       "    <tr style=\"text-align: right;\">\n",
       "      <th></th>\n",
       "      <th>compactness</th>\n",
       "      <th>circularity</th>\n",
       "      <th>distance_circularity</th>\n",
       "      <th>radius_ratio</th>\n",
       "      <th>pr.axis_aspect_ratio</th>\n",
       "      <th>max.length_aspect_ratio</th>\n",
       "      <th>scatter_ratio</th>\n",
       "      <th>elongatedness</th>\n",
       "      <th>pr.axis_rectangularity</th>\n",
       "      <th>max.length_rectangularity</th>\n",
       "      <th>scaled_variance</th>\n",
       "      <th>scaled_variance.1</th>\n",
       "      <th>scaled_radius_of_gyration</th>\n",
       "      <th>scaled_radius_of_gyration.1</th>\n",
       "      <th>skewness_about</th>\n",
       "      <th>skewness_about.1</th>\n",
       "      <th>skewness_about.2</th>\n",
       "      <th>hollows_ratio</th>\n",
       "    </tr>\n",
       "  </thead>\n",
       "  <tbody>\n",
       "    <tr>\n",
       "      <th>0</th>\n",
       "      <td>95</td>\n",
       "      <td>48.0</td>\n",
       "      <td>83.0</td>\n",
       "      <td>178.0</td>\n",
       "      <td>72.0</td>\n",
       "      <td>10</td>\n",
       "      <td>162.0</td>\n",
       "      <td>42.0</td>\n",
       "      <td>20.0</td>\n",
       "      <td>159</td>\n",
       "      <td>176.0</td>\n",
       "      <td>379.0</td>\n",
       "      <td>184.0</td>\n",
       "      <td>70.0</td>\n",
       "      <td>6.0</td>\n",
       "      <td>16.0</td>\n",
       "      <td>187.0</td>\n",
       "      <td>197</td>\n",
       "    </tr>\n",
       "    <tr>\n",
       "      <th>1</th>\n",
       "      <td>91</td>\n",
       "      <td>41.0</td>\n",
       "      <td>84.0</td>\n",
       "      <td>141.0</td>\n",
       "      <td>57.0</td>\n",
       "      <td>9</td>\n",
       "      <td>149.0</td>\n",
       "      <td>45.0</td>\n",
       "      <td>19.0</td>\n",
       "      <td>143</td>\n",
       "      <td>170.0</td>\n",
       "      <td>330.0</td>\n",
       "      <td>158.0</td>\n",
       "      <td>72.0</td>\n",
       "      <td>9.0</td>\n",
       "      <td>14.0</td>\n",
       "      <td>189.0</td>\n",
       "      <td>199</td>\n",
       "    </tr>\n",
       "    <tr>\n",
       "      <th>2</th>\n",
       "      <td>104</td>\n",
       "      <td>50.0</td>\n",
       "      <td>106.0</td>\n",
       "      <td>209.0</td>\n",
       "      <td>66.0</td>\n",
       "      <td>10</td>\n",
       "      <td>207.0</td>\n",
       "      <td>32.0</td>\n",
       "      <td>23.0</td>\n",
       "      <td>158</td>\n",
       "      <td>223.0</td>\n",
       "      <td>635.0</td>\n",
       "      <td>220.0</td>\n",
       "      <td>73.0</td>\n",
       "      <td>14.0</td>\n",
       "      <td>9.0</td>\n",
       "      <td>188.0</td>\n",
       "      <td>196</td>\n",
       "    </tr>\n",
       "    <tr>\n",
       "      <th>3</th>\n",
       "      <td>93</td>\n",
       "      <td>41.0</td>\n",
       "      <td>82.0</td>\n",
       "      <td>159.0</td>\n",
       "      <td>63.0</td>\n",
       "      <td>9</td>\n",
       "      <td>144.0</td>\n",
       "      <td>46.0</td>\n",
       "      <td>19.0</td>\n",
       "      <td>143</td>\n",
       "      <td>160.0</td>\n",
       "      <td>309.0</td>\n",
       "      <td>127.0</td>\n",
       "      <td>63.0</td>\n",
       "      <td>6.0</td>\n",
       "      <td>10.0</td>\n",
       "      <td>199.0</td>\n",
       "      <td>207</td>\n",
       "    </tr>\n",
       "    <tr>\n",
       "      <th>4</th>\n",
       "      <td>85</td>\n",
       "      <td>44.0</td>\n",
       "      <td>70.0</td>\n",
       "      <td>205.0</td>\n",
       "      <td>103.0</td>\n",
       "      <td>52</td>\n",
       "      <td>149.0</td>\n",
       "      <td>45.0</td>\n",
       "      <td>19.0</td>\n",
       "      <td>144</td>\n",
       "      <td>241.0</td>\n",
       "      <td>325.0</td>\n",
       "      <td>188.0</td>\n",
       "      <td>127.0</td>\n",
       "      <td>9.0</td>\n",
       "      <td>11.0</td>\n",
       "      <td>180.0</td>\n",
       "      <td>183</td>\n",
       "    </tr>\n",
       "  </tbody>\n",
       "</table>\n",
       "</div>"
      ],
      "text/plain": [
       "   compactness  circularity  distance_circularity  radius_ratio  \\\n",
       "0           95         48.0                  83.0         178.0   \n",
       "1           91         41.0                  84.0         141.0   \n",
       "2          104         50.0                 106.0         209.0   \n",
       "3           93         41.0                  82.0         159.0   \n",
       "4           85         44.0                  70.0         205.0   \n",
       "\n",
       "   pr.axis_aspect_ratio  max.length_aspect_ratio  scatter_ratio  \\\n",
       "0                  72.0                       10          162.0   \n",
       "1                  57.0                        9          149.0   \n",
       "2                  66.0                       10          207.0   \n",
       "3                  63.0                        9          144.0   \n",
       "4                 103.0                       52          149.0   \n",
       "\n",
       "   elongatedness  pr.axis_rectangularity  max.length_rectangularity  \\\n",
       "0           42.0                    20.0                        159   \n",
       "1           45.0                    19.0                        143   \n",
       "2           32.0                    23.0                        158   \n",
       "3           46.0                    19.0                        143   \n",
       "4           45.0                    19.0                        144   \n",
       "\n",
       "   scaled_variance  scaled_variance.1  scaled_radius_of_gyration  \\\n",
       "0            176.0              379.0                      184.0   \n",
       "1            170.0              330.0                      158.0   \n",
       "2            223.0              635.0                      220.0   \n",
       "3            160.0              309.0                      127.0   \n",
       "4            241.0              325.0                      188.0   \n",
       "\n",
       "   scaled_radius_of_gyration.1  skewness_about  skewness_about.1  \\\n",
       "0                         70.0             6.0              16.0   \n",
       "1                         72.0             9.0              14.0   \n",
       "2                         73.0            14.0               9.0   \n",
       "3                         63.0             6.0              10.0   \n",
       "4                        127.0             9.0              11.0   \n",
       "\n",
       "   skewness_about.2  hollows_ratio  \n",
       "0             187.0            197  \n",
       "1             189.0            199  \n",
       "2             188.0            196  \n",
       "3             199.0            207  \n",
       "4             180.0            183  "
      ]
     },
     "execution_count": 7,
     "metadata": {},
     "output_type": "execute_result"
    }
   ],
   "source": [
    "vehicle_class = vehicle['class']\n",
    "vehicle_detail = vehicle.drop('class', axis=1)\n",
    "vehicle_detail.head()"
   ]
  },
  {
   "cell_type": "code",
   "execution_count": 8,
   "metadata": {},
   "outputs": [
    {
     "name": "stdout",
     "output_type": "stream",
     "text": [
      "Covariance Matrix \n",
      "%s [[ 1.00123153  0.69073497  0.79092746  0.68897729  0.09066804  0.1505537\n",
      "   0.81502868 -0.78902127  0.81522961  0.67573322  0.76532752  0.82125027\n",
      "   0.58212123 -0.25875528  0.23193313  0.16859183  0.29656022  0.3732647 ]\n",
      " [ 0.69073497  1.00123153  0.79868656  0.62471862  0.15521415  0.25192897\n",
      "   0.85920548 -0.8261242   0.85719089  0.96655501  0.80710097  0.85197956\n",
      "   0.93674669  0.0491303   0.1419004  -0.00197723 -0.1140426   0.04939203]\n",
      " [ 0.79092746  0.79868656  1.00123153  0.77235395  0.16358689  0.26591783\n",
      "   0.91014241 -0.9138366   0.89836576  0.77441118  0.86674929  0.89288735\n",
      "   0.70655787 -0.23843852  0.11041593  0.278193    0.14543699  0.34365085]\n",
      " [ 0.68897729  0.62471862  0.77235395  1.00123153  0.66819724  0.45301698\n",
      "   0.74438595 -0.79674104  0.71709175  0.57118076  0.80778118  0.73267385\n",
      "   0.54530637 -0.17556405  0.04474816  0.17829807  0.37605357  0.47147529]\n",
      " [ 0.09066804  0.15521415  0.16358689  0.66819724  1.00123153  0.6528959\n",
      "   0.11383635 -0.19142882  0.08709873  0.13371753  0.29073296  0.10079166\n",
      "   0.1358303   0.17327362 -0.05931667 -0.04081886  0.22998448  0.25788318]\n",
      " [ 0.1505537   0.25192897  0.26591783  0.45301698  0.6528959   1.00123153\n",
      "   0.17165622 -0.18346816  0.16772014  0.30956088  0.33153186  0.15025349\n",
      "   0.19742152  0.30870835  0.01648166  0.04126053 -0.03058065  0.13945419]\n",
      " [ 0.81502868  0.85920548  0.91014241  0.74438595  0.11383635  0.17165622\n",
      "   1.00123153 -0.97461169  0.99321402  0.80914895  0.95123751  0.99762263\n",
      "   0.79672833 -0.04568825  0.07020422  0.22765518  0.00997918  0.13859428]\n",
      " [-0.78902127 -0.8261242  -0.9138366  -0.79674104 -0.19142882 -0.18346816\n",
      "  -0.97461169  1.00123153 -0.95151538 -0.7720487  -0.93900061 -0.95803596\n",
      "  -0.76250122  0.11989713 -0.04667832 -0.20157325 -0.11771267 -0.23369509]\n",
      " [ 0.81522961  0.85719089  0.89836576  0.71709175  0.08709873  0.16772014\n",
      "   0.99321402 -0.95151538  1.00123153  0.81297896  0.93680528  0.99334122\n",
      "   0.79387149 -0.0338105   0.07879827  0.23145534 -0.01740457  0.11734664]\n",
      " [ 0.67573322  0.96655501  0.77441118  0.57118076  0.13371753  0.30956088\n",
      "   0.80914895 -0.7720487   0.81297896  1.00123153  0.74567768  0.79721018\n",
      "   0.86630563  0.03113609  0.1305165   0.01306069 -0.1081518   0.08689924]\n",
      " [ 0.76532752  0.80710097  0.86674929  0.80778118  0.29073296  0.33153186\n",
      "   0.95123751 -0.93900061  0.93680528  0.74567768  1.00123153  0.94878385\n",
      "   0.77700696  0.09949344  0.03427042  0.20922369  0.01785045  0.10511871]\n",
      " [ 0.82125027  0.85197956  0.89288735  0.73267385  0.10079166  0.15025349\n",
      "   0.99762263 -0.95803596  0.99334122  0.79721018  0.94878385  1.00123153\n",
      "   0.79297189 -0.03794995  0.07248206  0.22032505  0.01179646  0.12527211]\n",
      " [ 0.58212123  0.93674669  0.70655787  0.54530637  0.1358303   0.19742152\n",
      "   0.79672833 -0.76250122  0.79387149  0.86630563  0.77700696  0.79297189\n",
      "   1.00123153  0.17750261  0.1625974  -0.04120413 -0.22477134 -0.10229307]\n",
      " [-0.25875528  0.0491303  -0.23843852 -0.17556405  0.17327362  0.30870835\n",
      "  -0.04568825  0.11989713 -0.0338105   0.03113609  0.09949344 -0.03794995\n",
      "   0.17750261  1.00123153 -0.08821744 -0.12074877 -0.74958968 -0.7997942 ]\n",
      " [ 0.23193313  0.1419004   0.11041593  0.04474816 -0.05931667  0.01648166\n",
      "   0.07020422 -0.04667832  0.07879827  0.1305165   0.03427042  0.07248206\n",
      "   0.1625974  -0.08821744  1.00123153 -0.02263933  0.11127169  0.0982493 ]\n",
      " [ 0.16859183 -0.00197723  0.278193    0.17829807 -0.04081886  0.04126053\n",
      "   0.22765518 -0.20157325  0.23145534  0.01306069  0.20922369  0.22032505\n",
      "  -0.04120413 -0.12074877 -0.02263933  1.00123153  0.07803801  0.20153412]\n",
      " [ 0.29656022 -0.1140426   0.14543699  0.37605357  0.22998448 -0.03058065\n",
      "   0.00997918 -0.11771267 -0.01740457 -0.1081518   0.01785045  0.01179646\n",
      "  -0.22477134 -0.74958968  0.11127169  0.07803801  1.00123153  0.89515759]\n",
      " [ 0.3732647   0.04939203  0.34365085  0.47147529  0.25788318  0.13945419\n",
      "   0.13859428 -0.23369509  0.11734664  0.08689924  0.10511871  0.12527211\n",
      "  -0.10229307 -0.7997942   0.0982493   0.20153412  0.89515759  1.00123153]]\n"
     ]
    }
   ],
   "source": [
    "from sklearn.preprocessing import StandardScaler\n",
    "\n",
    "sc = StandardScaler()\n",
    "data_std =  sc.fit_transform(vehicle_detail)          \n",
    "cov_matrix = np.cov(data_std.T)\n",
    "print('Covariance Matrix \\n%s', cov_matrix)"
   ]
  },
  {
   "cell_type": "markdown",
   "metadata": {},
   "source": [
    "Since the dimensions of the data are not really known to us, it would be wise to standardize the data using z scores before we go for any clustering methods.\n",
    "You can use zscore function to do this"
   ]
  },
  {
   "cell_type": "markdown",
   "metadata": {},
   "source": [
    "### K - Means Clustering"
   ]
  },
  {
   "cell_type": "markdown",
   "metadata": {},
   "source": [
    "### 4. Assign a dummy array called distortion"
   ]
  },
  {
   "cell_type": "markdown",
   "metadata": {},
   "source": [
    "You can later use this array to plot the elbow plot"
   ]
  },
  {
   "cell_type": "code",
   "execution_count": 9,
   "metadata": {},
   "outputs": [],
   "source": [
    "# Clustering dataset\n",
    "# determine k using elbow method\n",
    "\n",
    "from sklearn.cluster import KMeans\n",
    "from sklearn import metrics\n",
    "from scipy.spatial.distance import cdist"
   ]
  },
  {
   "cell_type": "code",
   "execution_count": 10,
   "metadata": {},
   "outputs": [],
   "source": [
    "# k means determine k\n",
    "distortions = []"
   ]
  },
  {
   "cell_type": "markdown",
   "metadata": {},
   "source": [
    "### 5. Calculating distortion - C distance"
   ]
  },
  {
   "cell_type": "code",
   "execution_count": 11,
   "metadata": {},
   "outputs": [],
   "source": [
    "K = range(1,10)\n",
    "for k in K:\n",
    "    kmeanModel = KMeans(n_clusters=k).fit(data_std)\n",
    "    kmeanModel.fit(data_std)\n",
    "    distortions.append(\n",
    "        sum(np.min(cdist(data_std, kmeanModel.cluster_centers_, 'euclidean'), axis=1)) / data_std.shape[0])"
   ]
  },
  {
   "cell_type": "markdown",
   "metadata": {},
   "source": [
    "Iterating values of k from 1 to 10 fit K means model\n",
    "Using c distance - Get the measure for Sum of squares error."
   ]
  },
  {
   "cell_type": "code",
   "execution_count": 12,
   "metadata": {},
   "outputs": [
    {
     "data": {
      "text/plain": [
       "[3.939299196727955,\n",
       " 2.966824380205441,\n",
       " 2.6428664657321073,\n",
       " 2.535287991800082,\n",
       " 2.4279866781590593,\n",
       " 2.315019488970958,\n",
       " 2.242425552425044,\n",
       " 2.1867044759951964,\n",
       " 2.1033174077951444]"
      ]
     },
     "execution_count": 12,
     "metadata": {},
     "output_type": "execute_result"
    }
   ],
   "source": [
    "distortions"
   ]
  },
  {
   "cell_type": "code",
   "execution_count": null,
   "metadata": {},
   "outputs": [],
   "source": []
  },
  {
   "cell_type": "markdown",
   "metadata": {},
   "source": [
    "### 6. Plotting Elbow/ Scree Plot"
   ]
  },
  {
   "cell_type": "code",
   "execution_count": 13,
   "metadata": {},
   "outputs": [
    {
     "data": {
      "image/png": "[encoded data removed]",
      "text/plain": [
       "<Figure size 432x288 with 1 Axes>"
      ]
     },
     "metadata": {
      "needs_background": "light"
     },
     "output_type": "display_data"
    }
   ],
   "source": [
    "plt.plot(K, distortions, 'bx-')\n",
    "plt.xlabel('k')\n",
    "plt.ylabel('Distortion')\n",
    "plt.title('The Elbow Method showing the optimal k')\n",
    "plt.show()"
   ]
  },
  {
   "cell_type": "markdown",
   "metadata": {},
   "source": [
    "Use Matplotlib to plot the scree plot - Note: Scree plot plots distortion vs the no of clusters"
   ]
  },
  {
   "cell_type": "markdown",
   "metadata": {},
   "source": [
    "### Find out the optimal value of K"
   ]
  },
  {
   "cell_type": "markdown",
   "metadata": {},
   "source": [
    "Up until the 3rd cluster, the distorting movement is vertical and beyond that it becomes more horizontal\n",
    "\n",
    "Hence we could say, k = 3"
   ]
  },
  {
   "cell_type": "markdown",
   "metadata": {},
   "source": [
    "### Using optimal value of K - Cluster the data. \n",
    "Note: Since the data has more than 2 dimension we cannot visualize the data. As an alternative, we can observe the centroids and note how they are distributed across different dimensions"
   ]
  },
  {
   "cell_type": "code",
   "execution_count": 15,
   "metadata": {},
   "outputs": [],
   "source": [
    "kmeans = KMeans(n_clusters=3)"
   ]
  },
  {
   "cell_type": "code",
   "execution_count": 16,
   "metadata": {},
   "outputs": [
    {
     "data": {
      "text/plain": [
       "KMeans(algorithm='auto', copy_x=True, init='k-means++', max_iter=300,\n",
       "    n_clusters=3, n_init=10, n_jobs=1, precompute_distances='auto',\n",
       "    random_state=None, tol=0.0001, verbose=0)"
      ]
     },
     "execution_count": 16,
     "metadata": {},
     "output_type": "execute_result"
    }
   ],
   "source": [
    "kmeans.fit(data_std)"
   ]
  },
  {
   "cell_type": "markdown",
   "metadata": {},
   "source": [
    "You can use kmeans.cluster_centers_ function to pull the centroid information from the instance"
   ]
  },
  {
   "cell_type": "code",
   "execution_count": 17,
   "metadata": {},
   "outputs": [
    {
     "data": {
      "text/plain": [
       "array([[ 1.13076532,  1.17094237,  1.19500584,  1.01909505,  0.21505188,\n",
       "         0.34250798,  1.27180461, -1.19061224,  1.27548416,  1.09266768,\n",
       "         1.22038121,  1.28132727,  1.07954232, -0.02879497,  0.16229031,\n",
       "         0.26566456, -0.00535553,  0.18380067],\n",
       "       [-0.2339617 , -0.57387481, -0.30776905, -0.03041322,  0.2050726 ,\n",
       "        -0.11653151, -0.45904181,  0.32506329, -0.48798836, -0.53604446,\n",
       "        -0.41380935, -0.46366305, -0.60155031, -0.61924057, -0.06177969,\n",
       "         0.01066762,  0.81278556,  0.69897299],\n",
       "       [-0.91987072, -0.52009251, -0.89320752, -1.06435572, -0.50042171,\n",
       "        -0.2190738 , -0.7791213 ,  0.86589322, -0.74535635, -0.484632  ,\n",
       "        -0.78240328, -0.78341064, -0.38498232,  0.83878747, -0.09524349,\n",
       "        -0.30171562, -1.05420601, -1.11069466]])"
      ]
     },
     "execution_count": 17,
     "metadata": {},
     "output_type": "execute_result"
    }
   ],
   "source": [
    "centroid = kmeans.cluster_centers_\n",
    "centroid"
   ]
  },
  {
   "cell_type": "markdown",
   "metadata": {},
   "source": [
    "### 7. Store the centroids in a dataframe with column names from the original dataset given "
   ]
  },
  {
   "cell_type": "markdown",
   "metadata": {},
   "source": [
    "Hint: Use pd.Dataframe function "
   ]
  },
  {
   "cell_type": "code",
   "execution_count": 18,
   "metadata": {},
   "outputs": [],
   "source": [
    "centroid_df = pd.DataFrame(centroid, columns = vehicle_detail.columns) "
   ]
  },
  {
   "cell_type": "code",
   "execution_count": 19,
   "metadata": {},
   "outputs": [
    {
     "data": {
      "text/html": [
       "<div>\n",
       "<style scoped>\n",
       "    .dataframe tbody tr th:only-of-type {\n",
       "        vertical-align: middle;\n",
       "    }\n",
       "\n",
       "    .dataframe tbody tr th {\n",
       "        vertical-align: top;\n",
       "    }\n",
       "\n",
       "    .dataframe thead th {\n",
       "        text-align: right;\n",
       "    }\n",
       "</style>\n",
       "<table border=\"1\" class=\"dataframe\">\n",
       "  <thead>\n",
       "    <tr style=\"text-align: right;\">\n",
       "      <th></th>\n",
       "      <th>compactness</th>\n",
       "      <th>circularity</th>\n",
       "      <th>distance_circularity</th>\n",
       "      <th>radius_ratio</th>\n",
       "      <th>pr.axis_aspect_ratio</th>\n",
       "      <th>max.length_aspect_ratio</th>\n",
       "      <th>scatter_ratio</th>\n",
       "      <th>elongatedness</th>\n",
       "      <th>pr.axis_rectangularity</th>\n",
       "      <th>max.length_rectangularity</th>\n",
       "      <th>scaled_variance</th>\n",
       "      <th>scaled_variance.1</th>\n",
       "      <th>scaled_radius_of_gyration</th>\n",
       "      <th>scaled_radius_of_gyration.1</th>\n",
       "      <th>skewness_about</th>\n",
       "      <th>skewness_about.1</th>\n",
       "      <th>skewness_about.2</th>\n",
       "      <th>hollows_ratio</th>\n",
       "    </tr>\n",
       "  </thead>\n",
       "  <tbody>\n",
       "    <tr>\n",
       "      <th>0</th>\n",
       "      <td>1.130765</td>\n",
       "      <td>1.170942</td>\n",
       "      <td>1.195006</td>\n",
       "      <td>1.019095</td>\n",
       "      <td>0.215052</td>\n",
       "      <td>0.342508</td>\n",
       "      <td>1.271805</td>\n",
       "      <td>-1.190612</td>\n",
       "      <td>1.275484</td>\n",
       "      <td>1.092668</td>\n",
       "      <td>1.220381</td>\n",
       "      <td>1.281327</td>\n",
       "      <td>1.079542</td>\n",
       "      <td>-0.028795</td>\n",
       "      <td>0.162290</td>\n",
       "      <td>0.265665</td>\n",
       "      <td>-0.005356</td>\n",
       "      <td>0.183801</td>\n",
       "    </tr>\n",
       "    <tr>\n",
       "      <th>1</th>\n",
       "      <td>-0.233962</td>\n",
       "      <td>-0.573875</td>\n",
       "      <td>-0.307769</td>\n",
       "      <td>-0.030413</td>\n",
       "      <td>0.205073</td>\n",
       "      <td>-0.116532</td>\n",
       "      <td>-0.459042</td>\n",
       "      <td>0.325063</td>\n",
       "      <td>-0.487988</td>\n",
       "      <td>-0.536044</td>\n",
       "      <td>-0.413809</td>\n",
       "      <td>-0.463663</td>\n",
       "      <td>-0.601550</td>\n",
       "      <td>-0.619241</td>\n",
       "      <td>-0.061780</td>\n",
       "      <td>0.010668</td>\n",
       "      <td>0.812786</td>\n",
       "      <td>0.698973</td>\n",
       "    </tr>\n",
       "    <tr>\n",
       "      <th>2</th>\n",
       "      <td>-0.919871</td>\n",
       "      <td>-0.520093</td>\n",
       "      <td>-0.893208</td>\n",
       "      <td>-1.064356</td>\n",
       "      <td>-0.500422</td>\n",
       "      <td>-0.219074</td>\n",
       "      <td>-0.779121</td>\n",
       "      <td>0.865893</td>\n",
       "      <td>-0.745356</td>\n",
       "      <td>-0.484632</td>\n",
       "      <td>-0.782403</td>\n",
       "      <td>-0.783411</td>\n",
       "      <td>-0.384982</td>\n",
       "      <td>0.838787</td>\n",
       "      <td>-0.095243</td>\n",
       "      <td>-0.301716</td>\n",
       "      <td>-1.054206</td>\n",
       "      <td>-1.110695</td>\n",
       "    </tr>\n",
       "  </tbody>\n",
       "</table>\n",
       "</div>"
      ],
      "text/plain": [
       "   compactness  circularity  distance_circularity  radius_ratio  \\\n",
       "0     1.130765     1.170942              1.195006      1.019095   \n",
       "1    -0.233962    -0.573875             -0.307769     -0.030413   \n",
       "2    -0.919871    -0.520093             -0.893208     -1.064356   \n",
       "\n",
       "   pr.axis_aspect_ratio  max.length_aspect_ratio  scatter_ratio  \\\n",
       "0              0.215052                 0.342508       1.271805   \n",
       "1              0.205073                -0.116532      -0.459042   \n",
       "2             -0.500422                -0.219074      -0.779121   \n",
       "\n",
       "   elongatedness  pr.axis_rectangularity  max.length_rectangularity  \\\n",
       "0      -1.190612                1.275484                   1.092668   \n",
       "1       0.325063               -0.487988                  -0.536044   \n",
       "2       0.865893               -0.745356                  -0.484632   \n",
       "\n",
       "   scaled_variance  scaled_variance.1  scaled_radius_of_gyration  \\\n",
       "0         1.220381           1.281327                   1.079542   \n",
       "1        -0.413809          -0.463663                  -0.601550   \n",
       "2        -0.782403          -0.783411                  -0.384982   \n",
       "\n",
       "   scaled_radius_of_gyration.1  skewness_about  skewness_about.1  \\\n",
       "0                    -0.028795        0.162290          0.265665   \n",
       "1                    -0.619241       -0.061780          0.010668   \n",
       "2                     0.838787       -0.095243         -0.301716   \n",
       "\n",
       "   skewness_about.2  hollows_ratio  \n",
       "0         -0.005356       0.183801  \n",
       "1          0.812786       0.698973  \n",
       "2         -1.054206      -1.110695  "
      ]
     },
     "execution_count": 19,
     "metadata": {},
     "output_type": "execute_result"
    }
   ],
   "source": [
    "centroid_df"
   ]
  },
  {
   "cell_type": "markdown",
   "metadata": {},
   "source": [
    "### Use kmeans.labels_ function to print out the labels of the classes"
   ]
  },
  {
   "cell_type": "code",
   "execution_count": 20,
   "metadata": {},
   "outputs": [
    {
     "data": {
      "text/plain": [
       "array([1, 1, 0, 1, 2, 1, 1, 1, 1, 1, 1, 1, 1, 0, 2, 1, 0, 2, 2, 1, 1, 0,\n",
       "       1, 2, 0, 0, 2, 1, 1, 1, 0, 1, 2, 0, 0, 2, 0, 2, 2, 1, 0, 2, 2, 2,\n",
       "       2, 1, 2, 1, 0, 1, 0, 1, 1, 2, 0, 2, 0, 2, 2, 2, 1, 2, 0, 1, 0, 0,\n",
       "       1, 2, 1, 0, 1, 2, 2, 0, 1, 2, 1, 0, 1, 2, 1, 2, 0, 1, 0, 1, 2, 0,\n",
       "       2, 2, 0, 2, 2, 1, 1, 2, 0, 0, 2, 2, 0, 1, 1, 2, 2, 2, 1, 0, 0, 1,\n",
       "       2, 2, 1, 2, 2, 2, 2, 2, 1, 0, 0, 1, 1, 2, 0, 0, 2, 1, 2, 1, 1, 0,\n",
       "       2, 1, 0, 1, 1, 1, 1, 0, 1, 1, 0, 1, 0, 1, 2, 1, 2, 0, 1, 1, 0, 0,\n",
       "       1, 0, 2, 2, 0, 0, 1, 0, 1, 1, 1, 1, 2, 0, 2, 1, 2, 0, 1, 1, 1, 0,\n",
       "       1, 0, 1, 0, 1, 2, 0, 2, 2, 2, 1, 1, 0, 0, 1, 1, 1, 2, 0, 1, 1, 1,\n",
       "       0, 2, 2, 0, 2, 1, 0, 2, 2, 2, 1, 0, 1, 0, 2, 2, 2, 2, 0, 1, 2, 1,\n",
       "       0, 2, 1, 1, 2, 0, 2, 2, 1, 1, 0, 2, 0, 2, 1, 1, 0, 1, 1, 0, 0, 2,\n",
       "       1, 1, 1, 0, 2, 1, 1, 2, 2, 1, 1, 0, 1, 2, 2, 0, 1, 1, 2, 2, 0, 2,\n",
       "       1, 0, 2, 1, 0, 1, 1, 0, 1, 0, 2, 1, 1, 0, 1, 1, 1, 2, 1, 0, 0, 0,\n",
       "       0, 2, 1, 0, 2, 2, 2, 1, 2, 0, 0, 2, 0, 1, 2, 0, 1, 1, 1, 0, 0, 2,\n",
       "       0, 0, 2, 0, 1, 1, 1, 2, 2, 0, 0, 0, 1, 1, 1, 0, 2, 1, 2, 0, 1, 1,\n",
       "       0, 1, 0, 0, 0, 1, 2, 2, 0, 2, 2, 2, 1, 1, 1, 1, 2, 0, 0, 2, 2, 0,\n",
       "       2, 0, 2, 0, 1, 2, 1, 2, 0, 0, 2, 1, 1, 1, 0, 1, 1, 1, 1, 0, 1, 0,\n",
       "       1, 0, 1, 2, 2, 1, 1, 1, 2, 2, 1, 2, 0, 1, 1, 2, 2, 0, 1, 2, 1, 1,\n",
       "       0, 1, 0, 1, 0, 0, 2, 2, 0, 1, 2, 2, 1, 0, 0, 2, 1, 0, 0, 2, 0, 0,\n",
       "       0, 1, 1, 1, 1, 1, 0, 2, 2, 1, 0, 1, 1, 0, 1, 2, 0, 2, 2, 0, 1, 2,\n",
       "       0, 0, 0, 2, 0, 0, 2, 1, 2, 0, 0, 1, 1, 2, 2, 0, 1, 2, 0, 0, 1, 2,\n",
       "       0, 0, 1, 2, 2, 0, 0, 0, 2, 2, 0, 0, 0, 1, 1, 0, 2, 1, 0, 1, 2, 2,\n",
       "       1, 0, 2, 1, 1, 2, 1, 0, 1, 0, 0, 1, 2, 1, 0, 0, 2, 2, 1, 0, 1, 0,\n",
       "       0, 1, 1, 1, 1, 2, 2, 2, 1, 1, 0, 2, 2, 1, 2, 0, 1, 0, 2, 2, 0, 0,\n",
       "       1, 0, 1, 1, 1, 0, 1, 2, 1, 0, 1, 1, 2, 0, 0, 0, 0, 1, 2, 2, 2, 0,\n",
       "       0, 0, 1, 0, 2, 1, 0, 2, 2, 2, 1, 2, 0, 1, 1, 1, 1, 1, 1, 0, 1, 1,\n",
       "       0, 1, 1, 1, 2, 0, 2, 2, 1, 2, 1, 1, 2, 2, 0, 0, 2, 1, 0, 1, 0, 1,\n",
       "       1, 0, 1, 2, 0, 2, 0, 2, 2, 1, 2, 1, 0, 0, 2, 0, 1, 1, 2, 1, 2, 0,\n",
       "       1, 0, 2, 1, 1, 1, 2, 2, 2, 1, 0, 1, 0, 2, 1, 1, 1, 1, 0, 1, 2, 0,\n",
       "       1, 0, 1, 1, 0, 2, 0, 2, 1, 1, 1, 2, 0, 1, 2, 1, 0, 2, 0, 1, 1, 0,\n",
       "       2, 1, 2, 1, 1, 2, 1, 0, 0, 1, 1, 0, 0, 1, 1, 2, 1, 0, 0, 0, 0, 1,\n",
       "       0, 1, 1, 0, 0, 1, 0, 1, 0, 1, 2, 0, 1, 2, 0, 0, 0, 1, 0, 2, 2, 0,\n",
       "       0, 0, 1, 0, 1, 1, 0, 1, 2, 1, 2, 1, 0, 1, 2, 1, 1, 1, 2, 0, 2, 2,\n",
       "       2, 0, 0, 2, 0, 0, 2, 1, 1, 0, 1, 2, 0, 0, 2, 1, 1, 0, 0, 0, 2, 0,\n",
       "       1, 0, 0, 2, 2, 0, 2, 0, 1, 2, 1, 0, 0, 1, 2, 1, 0, 0, 1, 1, 2, 1,\n",
       "       1, 0, 2, 1, 0, 2, 2, 0, 2, 1, 2, 2, 2, 1, 0, 0, 1, 2, 0, 1, 0, 0,\n",
       "       2, 1, 0, 2, 2, 1, 1, 0, 2, 2, 0, 2, 1, 1, 1, 1, 1, 1, 0, 1, 2])"
      ]
     },
     "execution_count": 20,
     "metadata": {},
     "output_type": "execute_result"
    }
   ],
   "source": [
    "clusters = kmeans.labels_\n",
    "clusters"
   ]
  },
  {
   "cell_type": "code",
   "execution_count": null,
   "metadata": {},
   "outputs": [],
   "source": []
  },
  {
   "cell_type": "markdown",
   "metadata": {},
   "source": [
    "## Hierarchical Clustering "
   ]
  },
  {
   "cell_type": "markdown",
   "metadata": {},
   "source": [
    "### 8. Variable creation"
   ]
  },
  {
   "cell_type": "markdown",
   "metadata": {},
   "source": [
    "For Hierarchical clustering, we will create datasets using multivariate normal distribution to visually observe how the clusters are formed at the end"
   ]
  },
  {
   "cell_type": "code",
   "execution_count": 21,
   "metadata": {},
   "outputs": [],
   "source": [
    "# needed imports\n",
    "from matplotlib import pyplot as plt\n",
    "from scipy.cluster.hierarchy import dendrogram, linkage\n",
    "import numpy as np\n"
   ]
  },
  {
   "cell_type": "code",
   "execution_count": 22,
   "metadata": {},
   "outputs": [],
   "source": [
    "a = np.random.multivariate_normal([10, 0], [[3, 1], [1, 4]], size=[100,])\n",
    "b = np.random.multivariate_normal([0, 20], [[3, 1], [1, 4]], size=[50,])\n",
    "c = np.random.multivariate_normal([10, 20], [[3, 1], [1, 4]], size=[100,])"
   ]
  },
  {
   "cell_type": "markdown",
   "metadata": {},
   "source": [
    "### 9. Combine all three arrays a,b,c into a dataframe"
   ]
  },
  {
   "cell_type": "code",
   "execution_count": 23,
   "metadata": {},
   "outputs": [
    {
     "name": "stdout",
     "output_type": "stream",
     "text": [
      "(250, 2)\n"
     ]
    }
   ],
   "source": [
    "X = np.concatenate((a, b,c),)\n",
    "print(X.shape)  # 150 samples with 2 dimensions\n"
   ]
  },
  {
   "cell_type": "markdown",
   "metadata": {},
   "source": [
    "### 10. Use scatter matrix to print all the 3 distributions"
   ]
  },
  {
   "cell_type": "code",
   "execution_count": 24,
   "metadata": {},
   "outputs": [
    {
     "data": {
      "image/png": "[encoded data removed]",
      "text/plain": [
       "<Figure size 432x288 with 1 Axes>"
      ]
     },
     "metadata": {
      "needs_background": "light"
     },
     "output_type": "display_data"
    }
   ],
   "source": [
    "plt.scatter(X[:,0], X[:,1])\n",
    "plt.show()"
   ]
  },
  {
   "cell_type": "markdown",
   "metadata": {},
   "source": [
    "### 11. Find out the linkage matrix"
   ]
  },
  {
   "cell_type": "markdown",
   "metadata": {},
   "source": [
    "Use ward as linkage metric and distance as Eucledian"
   ]
  },
  {
   "cell_type": "code",
   "execution_count": 25,
   "metadata": {},
   "outputs": [],
   "source": [
    "# generate the linkage matrix\n",
    "Z = linkage(X, 'ward', metric='euclidean')"
   ]
  },
  {
   "cell_type": "code",
   "execution_count": 26,
   "metadata": {},
   "outputs": [
    {
     "data": {
      "text/plain": [
       "array([[1.30000000e+01, 9.80000000e+01, 2.98825619e-02, 2.00000000e+00],\n",
       "       [6.60000000e+01, 9.20000000e+01, 3.47084870e-02, 2.00000000e+00],\n",
       "       [1.97000000e+02, 2.33000000e+02, 4.29605009e-02, 2.00000000e+00],\n",
       "       [1.64000000e+02, 1.89000000e+02, 4.67317310e-02, 2.00000000e+00],\n",
       "       [2.18000000e+02, 2.23000000e+02, 5.24905582e-02, 2.00000000e+00],\n",
       "       [1.79000000e+02, 2.52000000e+02, 6.68455521e-02, 3.00000000e+00],\n",
       "       [1.61000000e+02, 2.26000000e+02, 7.70170283e-02, 2.00000000e+00],\n",
       "       [3.20000000e+01, 6.50000000e+01, 7.92173063e-02, 2.00000000e+00],\n",
       "       [5.50000000e+01, 7.80000000e+01, 8.49358453e-02, 2.00000000e+00],\n",
       "       [1.63000000e+02, 2.46000000e+02, 9.21477293e-02, 2.00000000e+00],\n",
       "       [2.01000000e+02, 2.37000000e+02, 9.70224322e-02, 2.00000000e+00],\n",
       "       [7.10000000e+01, 7.50000000e+01, 1.03282362e-01, 2.00000000e+00],\n",
       "       [1.14000000e+02, 1.34000000e+02, 1.13498892e-01, 2.00000000e+00],\n",
       "       [6.00000000e+00, 8.10000000e+01, 1.21817734e-01, 2.00000000e+00],\n",
       "       [1.72000000e+02, 2.27000000e+02, 1.24568444e-01, 2.00000000e+00],\n",
       "       [2.12000000e+02, 2.28000000e+02, 1.29453885e-01, 2.00000000e+00],\n",
       "       [1.06000000e+02, 1.31000000e+02, 1.52684595e-01, 2.00000000e+00],\n",
       "       [4.20000000e+01, 9.90000000e+01, 1.54718969e-01, 2.00000000e+00],\n",
       "       [6.90000000e+01, 9.00000000e+01, 1.54859010e-01, 2.00000000e+00],\n",
       "       [1.35000000e+02, 1.45000000e+02, 1.56217212e-01, 2.00000000e+00],\n",
       "       [1.86000000e+02, 2.38000000e+02, 1.60642098e-01, 2.00000000e+00],\n",
       "       [1.53000000e+02, 1.55000000e+02, 1.63831225e-01, 2.00000000e+00],\n",
       "       [1.60000000e+02, 1.77000000e+02, 1.67650445e-01, 2.00000000e+00],\n",
       "       [1.33000000e+02, 1.48000000e+02, 1.77277712e-01, 2.00000000e+00],\n",
       "       [1.56000000e+02, 2.19000000e+02, 1.79234664e-01, 2.00000000e+00],\n",
       "       [9.00000000e+00, 2.80000000e+01, 1.82676921e-01, 2.00000000e+00],\n",
       "       [1.80000000e+01, 5.30000000e+01, 1.87506574e-01, 2.00000000e+00],\n",
       "       [5.00000000e+00, 2.90000000e+01, 1.96718346e-01, 2.00000000e+00],\n",
       "       [2.21000000e+02, 2.55000000e+02, 2.13546708e-01, 4.00000000e+00],\n",
       "       [1.60000000e+01, 2.60000000e+01, 2.17301643e-01, 2.00000000e+00],\n",
       "       [1.52000000e+02, 2.43000000e+02, 2.22049705e-01, 2.00000000e+00],\n",
       "       [2.29000000e+02, 2.35000000e+02, 2.29105102e-01, 2.00000000e+00],\n",
       "       [2.20000000e+01, 4.40000000e+01, 2.32781349e-01, 2.00000000e+00],\n",
       "       [1.65000000e+02, 1.93000000e+02, 2.32925324e-01, 2.00000000e+00],\n",
       "       [7.70000000e+01, 2.75000000e+02, 2.50575558e-01, 3.00000000e+00],\n",
       "       [6.80000000e+01, 2.51000000e+02, 2.54064431e-01, 3.00000000e+00],\n",
       "       [6.10000000e+01, 2.67000000e+02, 2.58511190e-01, 3.00000000e+00],\n",
       "       [1.16000000e+02, 1.17000000e+02, 2.61587209e-01, 2.00000000e+00],\n",
       "       [2.24000000e+02, 2.31000000e+02, 2.62668262e-01, 2.00000000e+00],\n",
       "       [2.42000000e+02, 2.54000000e+02, 2.64571912e-01, 3.00000000e+00],\n",
       "       [1.68000000e+02, 2.45000000e+02, 2.70677157e-01, 2.00000000e+00],\n",
       "       [2.04000000e+02, 2.39000000e+02, 2.72296569e-01, 2.00000000e+00],\n",
       "       [1.98000000e+02, 2.17000000e+02, 2.76345413e-01, 2.00000000e+00],\n",
       "       [1.78000000e+02, 2.15000000e+02, 2.81240074e-01, 2.00000000e+00],\n",
       "       [3.30000000e+01, 5.60000000e+01, 2.82374629e-01, 2.00000000e+00],\n",
       "       [2.59000000e+02, 2.83000000e+02, 2.89615570e-01, 4.00000000e+00],\n",
       "       [1.10000000e+01, 6.20000000e+01, 2.93890312e-01, 2.00000000e+00],\n",
       "       [1.50000000e+02, 2.53000000e+02, 2.98098706e-01, 3.00000000e+00],\n",
       "       [1.00000000e+02, 1.05000000e+02, 3.03529127e-01, 2.00000000e+00],\n",
       "       [1.73000000e+02, 2.60000000e+02, 3.08108656e-01, 3.00000000e+00],\n",
       "       [1.57000000e+02, 2.71000000e+02, 3.11289502e-01, 3.00000000e+00],\n",
       "       [1.84000000e+02, 1.90000000e+02, 3.19514718e-01, 2.00000000e+00],\n",
       "       [2.30000000e+02, 2.34000000e+02, 3.21288928e-01, 2.00000000e+00],\n",
       "       [2.40000000e+01, 2.50000000e+01, 3.30639152e-01, 2.00000000e+00],\n",
       "       [8.00000000e+00, 1.50000000e+01, 3.32186076e-01, 2.00000000e+00],\n",
       "       [1.21000000e+02, 1.38000000e+02, 3.36519282e-01, 2.00000000e+00],\n",
       "       [2.20000000e+02, 2.74000000e+02, 3.45747952e-01, 3.00000000e+00],\n",
       "       [1.00000000e+01, 9.10000000e+01, 3.47304385e-01, 2.00000000e+00],\n",
       "       [2.16000000e+02, 2.64000000e+02, 3.50650304e-01, 3.00000000e+00],\n",
       "       [3.10000000e+01, 3.40000000e+01, 3.51411403e-01, 2.00000000e+00],\n",
       "       [4.60000000e+01, 6.30000000e+01, 3.67200846e-01, 2.00000000e+00],\n",
       "       [1.66000000e+02, 2.93000000e+02, 3.69040642e-01, 3.00000000e+00],\n",
       "       [1.02000000e+02, 1.15000000e+02, 3.72225989e-01, 2.00000000e+00],\n",
       "       [1.58000000e+02, 2.80000000e+02, 3.74589997e-01, 3.00000000e+00],\n",
       "       [1.94000000e+02, 2.32000000e+02, 3.74636070e-01, 2.00000000e+00],\n",
       "       [6.40000000e+01, 2.79000000e+02, 3.85007503e-01, 3.00000000e+00],\n",
       "       [1.92000000e+02, 1.99000000e+02, 3.96761443e-01, 2.00000000e+00],\n",
       "       [1.51000000e+02, 1.54000000e+02, 3.97835831e-01, 2.00000000e+00],\n",
       "       [3.00000000e+00, 4.50000000e+01, 3.99058960e-01, 2.00000000e+00],\n",
       "       [2.06000000e+02, 2.99000000e+02, 4.02148050e-01, 4.00000000e+00],\n",
       "       [1.41000000e+02, 1.46000000e+02, 4.06978876e-01, 2.00000000e+00],\n",
       "       [2.00000000e+00, 2.63000000e+02, 4.12450222e-01, 3.00000000e+00],\n",
       "       [1.90000000e+01, 4.80000000e+01, 4.24017461e-01, 2.00000000e+00],\n",
       "       [1.40000000e+01, 4.70000000e+01, 4.29178079e-01, 2.00000000e+00],\n",
       "       [5.90000000e+01, 2.96000000e+02, 4.34625312e-01, 3.00000000e+00],\n",
       "       [1.96000000e+02, 2.25000000e+02, 4.35133785e-01, 2.00000000e+00],\n",
       "       [8.20000000e+01, 8.60000000e+01, 4.41461388e-01, 2.00000000e+00],\n",
       "       [1.09000000e+02, 1.23000000e+02, 4.45121424e-01, 2.00000000e+00],\n",
       "       [1.42000000e+02, 1.43000000e+02, 4.52690483e-01, 2.00000000e+00],\n",
       "       [2.70000000e+01, 9.30000000e+01, 4.57560075e-01, 2.00000000e+00],\n",
       "       [2.05000000e+02, 2.44000000e+02, 4.68952971e-01, 2.00000000e+00],\n",
       "       [1.76000000e+02, 1.87000000e+02, 4.75706974e-01, 2.00000000e+00],\n",
       "       [1.83000000e+02, 2.07000000e+02, 4.81330982e-01, 2.00000000e+00],\n",
       "       [5.70000000e+01, 9.40000000e+01, 4.86372323e-01, 2.00000000e+00],\n",
       "       [2.00000000e+01, 5.40000000e+01, 4.90524420e-01, 2.00000000e+00],\n",
       "       [3.50000000e+01, 7.40000000e+01, 4.91947344e-01, 2.00000000e+00],\n",
       "       [3.80000000e+01, 4.10000000e+01, 5.00338764e-01, 2.00000000e+00],\n",
       "       [1.03000000e+02, 1.39000000e+02, 5.09076279e-01, 2.00000000e+00],\n",
       "       [1.20000000e+01, 2.77000000e+02, 5.09620654e-01, 3.00000000e+00],\n",
       "       [1.00000000e+00, 3.07000000e+02, 5.14329866e-01, 3.00000000e+00],\n",
       "       [1.70000000e+01, 7.60000000e+01, 5.16968499e-01, 2.00000000e+00],\n",
       "       [2.85000000e+02, 3.09000000e+02, 5.46354207e-01, 5.00000000e+00],\n",
       "       [3.90000000e+01, 3.24000000e+02, 5.51002945e-01, 4.00000000e+00],\n",
       "       [1.69000000e+02, 1.82000000e+02, 5.55045632e-01, 2.00000000e+00],\n",
       "       [1.08000000e+02, 1.24000000e+02, 5.59307019e-01, 2.00000000e+00],\n",
       "       [2.30000000e+01, 8.70000000e+01, 5.61636666e-01, 2.00000000e+00],\n",
       "       [1.67000000e+02, 2.11000000e+02, 5.63369256e-01, 2.00000000e+00],\n",
       "       [1.07000000e+02, 1.32000000e+02, 5.66781267e-01, 2.00000000e+00],\n",
       "       [1.59000000e+02, 2.14000000e+02, 5.84529235e-01, 2.00000000e+00],\n",
       "       [6.00000000e+01, 8.90000000e+01, 5.85917336e-01, 2.00000000e+00],\n",
       "       [1.74000000e+02, 1.95000000e+02, 5.93602948e-01, 2.00000000e+00],\n",
       "       [1.22000000e+02, 2.66000000e+02, 5.95264624e-01, 3.00000000e+00],\n",
       "       [8.00000000e+01, 2.82000000e+02, 5.96511259e-01, 3.00000000e+00],\n",
       "       [2.02000000e+02, 2.03000000e+02, 6.04890656e-01, 2.00000000e+00],\n",
       "       [2.50000000e+02, 3.26000000e+02, 6.10065919e-01, 4.00000000e+00],\n",
       "       [5.20000000e+01, 7.30000000e+01, 6.26195287e-01, 2.00000000e+00],\n",
       "       [8.80000000e+01, 3.04000000e+02, 6.26815313e-01, 3.00000000e+00],\n",
       "       [4.90000000e+01, 8.50000000e+01, 6.36971176e-01, 2.00000000e+00],\n",
       "       [2.10000000e+02, 2.97000000e+02, 6.40090204e-01, 4.00000000e+00],\n",
       "       [0.00000000e+00, 2.10000000e+01, 6.47490465e-01, 2.00000000e+00],\n",
       "       [1.81000000e+02, 3.08000000e+02, 6.55610192e-01, 4.00000000e+00],\n",
       "       [3.00000000e+01, 5.00000000e+01, 6.62502891e-01, 2.00000000e+00],\n",
       "       [1.88000000e+02, 3.06000000e+02, 6.71110673e-01, 4.00000000e+00],\n",
       "       [2.89000000e+02, 2.90000000e+02, 6.71788078e-01, 5.00000000e+00],\n",
       "       [1.62000000e+02, 3.48000000e+02, 6.75465260e-01, 3.00000000e+00],\n",
       "       [1.20000000e+02, 1.25000000e+02, 6.82844794e-01, 2.00000000e+00],\n",
       "       [2.72000000e+02, 2.91000000e+02, 6.87734338e-01, 4.00000000e+00],\n",
       "       [9.70000000e+01, 3.56000000e+02, 6.95875643e-01, 4.00000000e+00],\n",
       "       [3.60000000e+01, 8.40000000e+01, 6.98819113e-01, 2.00000000e+00],\n",
       "       [3.03000000e+02, 3.21000000e+02, 7.15598427e-01, 5.00000000e+00],\n",
       "       [1.01000000e+02, 1.49000000e+02, 7.16531224e-01, 2.00000000e+00],\n",
       "       [2.68000000e+02, 3.22000000e+02, 7.31897630e-01, 4.00000000e+00],\n",
       "       [1.27000000e+02, 3.05000000e+02, 7.33870629e-01, 3.00000000e+00],\n",
       "       [2.41000000e+02, 2.56000000e+02, 7.41717300e-01, 3.00000000e+00],\n",
       "       [2.22000000e+02, 3.11000000e+02, 7.47273577e-01, 4.00000000e+00],\n",
       "       [1.13000000e+02, 1.47000000e+02, 7.54591163e-01, 2.00000000e+00],\n",
       "       [5.10000000e+01, 9.50000000e+01, 7.54793594e-01, 2.00000000e+00],\n",
       "       [2.88000000e+02, 2.95000000e+02, 7.57419800e-01, 6.00000000e+00],\n",
       "       [1.18000000e+02, 1.44000000e+02, 7.61229087e-01, 2.00000000e+00],\n",
       "       [2.13000000e+02, 3.17000000e+02, 7.66936771e-01, 3.00000000e+00],\n",
       "       [2.09000000e+02, 3.19000000e+02, 7.83458383e-01, 5.00000000e+00],\n",
       "       [2.36000000e+02, 3.25000000e+02, 7.87405143e-01, 3.00000000e+00],\n",
       "       [8.30000000e+01, 3.61000000e+02, 8.13793633e-01, 3.00000000e+00],\n",
       "       [1.71000000e+02, 3.14000000e+02, 8.25120907e-01, 3.00000000e+00],\n",
       "       [2.84000000e+02, 3.38000000e+02, 8.31078393e-01, 6.00000000e+00],\n",
       "       [2.78000000e+02, 3.00000000e+02, 8.37165583e-01, 7.00000000e+00],\n",
       "       [2.57000000e+02, 2.76000000e+02, 8.37949130e-01, 4.00000000e+00],\n",
       "       [3.02000000e+02, 3.32000000e+02, 8.44788424e-01, 4.00000000e+00],\n",
       "       [3.70000000e+01, 2.61000000e+02, 8.75855927e-01, 3.00000000e+00],\n",
       "       [1.36000000e+02, 3.75000000e+02, 8.81475661e-01, 3.00000000e+00],\n",
       "       [1.10000000e+02, 3.44000000e+02, 8.86758722e-01, 3.00000000e+00],\n",
       "       [2.94000000e+02, 3.52000000e+02, 8.92942590e-01, 5.00000000e+00],\n",
       "       [2.98000000e+02, 3.12000000e+02, 9.03479812e-01, 4.00000000e+00],\n",
       "       [3.40000000e+02, 3.71000000e+02, 9.06635865e-01, 6.00000000e+00],\n",
       "       [7.90000000e+01, 9.60000000e+01, 9.27738580e-01, 2.00000000e+00],\n",
       "       [3.28000000e+02, 3.51000000e+02, 9.44851957e-01, 5.00000000e+00],\n",
       "       [1.29000000e+02, 3.72000000e+02, 9.46189550e-01, 4.00000000e+00],\n",
       "       [2.48000000e+02, 3.79000000e+02, 9.70053526e-01, 4.00000000e+00],\n",
       "       [1.11000000e+02, 1.26000000e+02, 9.82632412e-01, 2.00000000e+00],\n",
       "       [2.73000000e+02, 3.47000000e+02, 9.83141058e-01, 4.00000000e+00],\n",
       "       [2.58000000e+02, 3.88000000e+02, 9.84664636e-01, 5.00000000e+00],\n",
       "       [1.04000000e+02, 1.28000000e+02, 9.93010263e-01, 2.00000000e+00],\n",
       "       [4.30000000e+01, 3.57000000e+02, 9.93259368e-01, 3.00000000e+00],\n",
       "       [3.18000000e+02, 3.68000000e+02, 9.95921407e-01, 4.00000000e+00],\n",
       "       [2.86000000e+02, 3.15000000e+02, 1.07984457e+00, 6.00000000e+00],\n",
       "       [2.87000000e+02, 3.90000000e+02, 1.11575642e+00, 5.00000000e+00],\n",
       "       [2.40000000e+02, 3.81000000e+02, 1.12065271e+00, 4.00000000e+00],\n",
       "       [1.12000000e+02, 1.19000000e+02, 1.12761147e+00, 2.00000000e+00],\n",
       "       [2.70000000e+02, 3.46000000e+02, 1.13353161e+00, 4.00000000e+00],\n",
       "       [3.31000000e+02, 3.80000000e+02, 1.13963536e+00, 7.00000000e+00],\n",
       "       [2.92000000e+02, 3.43000000e+02, 1.14728671e+00, 4.00000000e+00],\n",
       "       [3.35000000e+02, 3.86000000e+02, 1.16258008e+00, 6.00000000e+00],\n",
       "       [1.80000000e+02, 3.16000000e+02, 1.22256917e+00, 3.00000000e+00],\n",
       "       [1.30000000e+02, 3.20000000e+02, 1.25437288e+00, 3.00000000e+00],\n",
       "       [3.62000000e+02, 3.66000000e+02, 1.28670052e+00, 8.00000000e+00],\n",
       "       [3.63000000e+02, 3.87000000e+02, 1.29880544e+00, 9.00000000e+00],\n",
       "       [3.50000000e+02, 4.08000000e+02, 1.32757476e+00, 6.00000000e+00],\n",
       "       [3.33000000e+02, 3.84000000e+02, 1.36717451e+00, 8.00000000e+00],\n",
       "       [1.37000000e+02, 3.70000000e+02, 1.39094738e+00, 3.00000000e+00],\n",
       "       [3.10000000e+02, 3.23000000e+02, 1.39575884e+00, 4.00000000e+00],\n",
       "       [4.00000000e+01, 3.55000000e+02, 1.42668424e+00, 3.00000000e+00],\n",
       "       [4.00000000e+00, 7.00000000e+01, 1.44205681e+00, 2.00000000e+00],\n",
       "       [3.53000000e+02, 4.12000000e+02, 1.49410622e+00, 5.00000000e+00],\n",
       "       [3.36000000e+02, 3.82000000e+02, 1.50384200e+00, 5.00000000e+00],\n",
       "       [1.75000000e+02, 1.85000000e+02, 1.52072928e+00, 2.00000000e+00],\n",
       "       [2.62000000e+02, 4.01000000e+02, 1.58687975e+00, 4.00000000e+00],\n",
       "       [3.01000000e+02, 3.60000000e+02, 1.59446846e+00, 6.00000000e+00],\n",
       "       [1.70000000e+02, 2.00000000e+02, 1.63122067e+00, 2.00000000e+00],\n",
       "       [7.00000000e+00, 3.49000000e+02, 1.70265155e+00, 3.00000000e+00],\n",
       "       [1.40000000e+02, 3.65000000e+02, 1.73007137e+00, 3.00000000e+00],\n",
       "       [3.34000000e+02, 4.04000000e+02, 1.74867373e+00, 8.00000000e+00],\n",
       "       [3.77000000e+02, 3.85000000e+02, 1.75808245e+00, 1.30000000e+01],\n",
       "       [3.78000000e+02, 4.05000000e+02, 1.76028238e+00, 7.00000000e+00],\n",
       "       [3.29000000e+02, 3.45000000e+02, 1.78989365e+00, 4.00000000e+00],\n",
       "       [2.81000000e+02, 3.58000000e+02, 1.79761429e+00, 6.00000000e+00],\n",
       "       [3.13000000e+02, 4.15000000e+02, 1.86053280e+00, 1.20000000e+01],\n",
       "       [6.70000000e+01, 4.03000000e+02, 1.91594345e+00, 5.00000000e+00],\n",
       "       [2.65000000e+02, 3.83000000e+02, 1.91666621e+00, 5.00000000e+00],\n",
       "       [3.64000000e+02, 4.09000000e+02, 1.92722887e+00, 1.00000000e+01],\n",
       "       [3.41000000e+02, 4.17000000e+02, 1.94108883e+00, 1.30000000e+01],\n",
       "       [3.54000000e+02, 4.11000000e+02, 1.98571511e+00, 1.00000000e+01],\n",
       "       [3.30000000e+02, 4.06000000e+02, 2.08980477e+00, 6.00000000e+00],\n",
       "       [3.89000000e+02, 4.18000000e+02, 2.09002549e+00, 6.00000000e+00],\n",
       "       [3.73000000e+02, 4.26000000e+02, 2.09798948e+00, 9.00000000e+00],\n",
       "       [3.92000000e+02, 3.99000000e+02, 2.17467950e+00, 8.00000000e+00],\n",
       "       [3.69000000e+02, 4.19000000e+02, 2.26128944e+00, 9.00000000e+00],\n",
       "       [3.97000000e+02, 4.34000000e+02, 2.29525262e+00, 1.00000000e+01],\n",
       "       [3.27000000e+02, 4.07000000e+02, 2.30521307e+00, 4.00000000e+00],\n",
       "       [3.95000000e+02, 4.13000000e+02, 2.35618828e+00, 8.00000000e+00],\n",
       "       [2.08000000e+02, 4.10000000e+02, 2.44549831e+00, 5.00000000e+00],\n",
       "       [3.42000000e+02, 3.76000000e+02, 2.48270333e+00, 6.00000000e+00],\n",
       "       [7.20000000e+01, 4.02000000e+02, 2.50040130e+00, 4.00000000e+00],\n",
       "       [4.16000000e+02, 4.27000000e+02, 2.56586619e+00, 8.00000000e+00],\n",
       "       [4.00000000e+02, 4.21000000e+02, 2.57238733e+00, 7.00000000e+00],\n",
       "       [3.91000000e+02, 4.30000000e+02, 2.57505409e+00, 1.30000000e+01],\n",
       "       [3.93000000e+02, 4.36000000e+02, 2.66260886e+00, 1.10000000e+01],\n",
       "       [2.69000000e+02, 4.25000000e+02, 2.69204375e+00, 6.00000000e+00],\n",
       "       [3.37000000e+02, 3.98000000e+02, 2.84668883e+00, 4.00000000e+00],\n",
       "       [4.14000000e+02, 4.31000000e+02, 2.89672459e+00, 2.10000000e+01],\n",
       "       [3.74000000e+02, 4.22000000e+02, 2.91383191e+00, 9.00000000e+00],\n",
       "       [3.96000000e+02, 4.42000000e+02, 2.99469694e+00, 1.00000000e+01],\n",
       "       [2.47000000e+02, 2.49000000e+02, 3.03971313e+00, 2.00000000e+00],\n",
       "       [1.91000000e+02, 4.49000000e+02, 3.07612965e+00, 6.00000000e+00],\n",
       "       [3.39000000e+02, 4.23000000e+02, 3.21243609e+00, 8.00000000e+00],\n",
       "       [4.20000000e+02, 4.51000000e+02, 3.32430497e+00, 7.00000000e+00],\n",
       "       [3.59000000e+02, 4.33000000e+02, 3.43924002e+00, 6.00000000e+00],\n",
       "       [4.35000000e+02, 4.41000000e+02, 3.76252342e+00, 1.80000000e+01],\n",
       "       [3.94000000e+02, 4.65000000e+02, 4.01417465e+00, 8.00000000e+00],\n",
       "       [4.28000000e+02, 4.40000000e+02, 4.15169352e+00, 1.30000000e+01],\n",
       "       [3.67000000e+02, 4.55000000e+02, 4.22114259e+00, 1.50000000e+01],\n",
       "       [4.46000000e+02, 4.61000000e+02, 4.25033130e+00, 1.20000000e+01],\n",
       "       [4.29000000e+02, 4.32000000e+02, 4.62456537e+00, 1.00000000e+01],\n",
       "       [4.45000000e+02, 4.50000000e+02, 4.72131704e+00, 1.50000000e+01],\n",
       "       [4.59000000e+02, 4.62000000e+02, 4.72485613e+00, 1.50000000e+01],\n",
       "       [4.39000000e+02, 4.54000000e+02, 4.72705736e+00, 2.60000000e+01],\n",
       "       [4.48000000e+02, 4.56000000e+02, 4.75503110e+00, 1.40000000e+01],\n",
       "       [4.38000000e+02, 4.58000000e+02, 5.14670119e+00, 3.10000000e+01],\n",
       "       [4.24000000e+02, 4.37000000e+02, 5.30439670e+00, 7.00000000e+00],\n",
       "       [4.44000000e+02, 4.47000000e+02, 5.83550697e+00, 1.20000000e+01],\n",
       "       [4.43000000e+02, 4.76000000e+02, 5.91897772e+00, 4.00000000e+01],\n",
       "       [4.53000000e+02, 4.72000000e+02, 6.37794214e+00, 2.20000000e+01],\n",
       "       [5.80000000e+01, 4.63000000e+02, 7.06191501e+00, 9.00000000e+00],\n",
       "       [4.52000000e+02, 4.73000000e+02, 7.20592109e+00, 2.30000000e+01],\n",
       "       [4.57000000e+02, 4.78000000e+02, 7.44113731e+00, 1.60000000e+01],\n",
       "       [4.69000000e+02, 4.74000000e+02, 7.78033439e+00, 4.10000000e+01],\n",
       "       [4.67000000e+02, 4.68000000e+02, 8.49987306e+00, 2.10000000e+01],\n",
       "       [4.60000000e+02, 4.71000000e+02, 9.21715243e+00, 2.00000000e+01],\n",
       "       [4.66000000e+02, 4.70000000e+02, 9.22955487e+00, 3.00000000e+01],\n",
       "       [4.64000000e+02, 4.81000000e+02, 9.54949278e+00, 1.60000000e+01],\n",
       "       [4.77000000e+02, 4.79000000e+02, 1.15355696e+01, 4.70000000e+01],\n",
       "       [4.75000000e+02, 4.83000000e+02, 1.23730405e+01, 3.00000000e+01],\n",
       "       [4.84000000e+02, 4.85000000e+02, 1.40721522e+01, 6.20000000e+01],\n",
       "       [4.87000000e+02, 4.89000000e+02, 1.51654362e+01, 7.70000000e+01],\n",
       "       [4.86000000e+02, 4.90000000e+02, 1.62270304e+01, 5.00000000e+01],\n",
       "       [4.80000000e+02, 4.91000000e+02, 1.63933182e+01, 8.40000000e+01],\n",
       "       [4.88000000e+02, 4.94000000e+02, 2.05784368e+01, 1.00000000e+02],\n",
       "       [4.82000000e+02, 4.92000000e+02, 2.27683424e+01, 1.00000000e+02],\n",
       "       [4.93000000e+02, 4.96000000e+02, 8.08022180e+01, 1.50000000e+02],\n",
       "       [4.95000000e+02, 4.97000000e+02, 2.21442598e+02, 2.50000000e+02]])"
      ]
     },
     "execution_count": 26,
     "metadata": {},
     "output_type": "execute_result"
    }
   ],
   "source": [
    "Z"
   ]
  },
  {
   "cell_type": "markdown",
   "metadata": {},
   "source": [
    "### 12. Plot the dendrogram for the consolidated dataframe"
   ]
  },
  {
   "cell_type": "code",
   "execution_count": 27,
   "metadata": {},
   "outputs": [
    {
     "data": {
      "image/png": "[encoded data removed]",
      "text/plain": [
       "<Figure size 1800x720 with 1 Axes>"
      ]
     },
     "metadata": {
      "needs_background": "light"
     },
     "output_type": "display_data"
    }
   ],
   "source": [
    "# calculate full dendrogram\n",
    "plt.figure(figsize=(25, 10))\n",
    "plt.title('Hierarchical Clustering Dendrogram')\n",
    "plt.xlabel('sample index')\n",
    "plt.ylabel('distance')\n",
    "dendrogram(\n",
    "    Z,\n",
    "    leaf_rotation=90.,  # rotates the x axis labels\n",
    "    leaf_font_size=8.,  # font size for the x axis labels\n",
    ")\n",
    "plt.show()"
   ]
  },
  {
   "cell_type": "markdown",
   "metadata": {},
   "source": [
    "### 13. Recreate the dendrogram for last 12 merged clusters "
   ]
  },
  {
   "cell_type": "markdown",
   "metadata": {},
   "source": [
    "Hint: Use truncate_mode='lastp' attribute in dendrogram function to arrive at dendrogram "
   ]
  },
  {
   "cell_type": "code",
   "execution_count": 28,
   "metadata": {},
   "outputs": [
    {
     "data": {
      "image/png": "[encoded data removed]",
      "text/plain": [
       "<Figure size 432x288 with 1 Axes>"
      ]
     },
     "metadata": {
      "needs_background": "light"
     },
     "output_type": "display_data"
    }
   ],
   "source": [
    "plt.title('Hierarchical Clustering Dendrogram (truncated)')\n",
    "plt.xlabel('sample index or (cluster size)')\n",
    "plt.ylabel('distance')\n",
    "dendrogram(\n",
    "    Z,\n",
    "    truncate_mode='lastp',  # show only the last p merged clusters\n",
    "    p=12,  # show only the last p merged clusters\n",
    "    leaf_rotation=90.,\n",
    "    leaf_font_size=12.,\n",
    ")\n",
    "plt.show()"
   ]
  },
  {
   "cell_type": "code",
   "execution_count": null,
   "metadata": {},
   "outputs": [],
   "source": []
  },
  {
   "cell_type": "markdown",
   "metadata": {},
   "source": [
    "### 14. From the truncated dendrogram, find out the optimal distance between clusters which u want to use an input for clustering data"
   ]
  },
  {
   "cell_type": "markdown",
   "metadata": {},
   "source": [
    "Looking at the above Dendo gram , 50 is the optimal which we should use as input"
   ]
  },
  {
   "cell_type": "markdown",
   "metadata": {},
   "source": [
    "### 15. Using this distance measure and fcluster function to cluster the data into 3 different groups"
   ]
  },
  {
   "cell_type": "code",
   "execution_count": 29,
   "metadata": {},
   "outputs": [
    {
     "data": {
      "text/plain": [
       "array([1, 1, 1, 1, 1, 1, 1, 1, 1, 1, 1, 1, 1, 1, 1, 1, 1, 1, 1, 1, 1, 1,\n",
       "       1, 1, 1, 1, 1, 1, 1, 1, 1, 1, 1, 1, 1, 1, 1, 1, 1, 1, 1, 1, 1, 1,\n",
       "       1, 1, 1, 1, 1, 1, 1, 1, 1, 1, 1, 1, 1, 1, 1, 1, 1, 1, 1, 1, 1, 1,\n",
       "       1, 1, 1, 1, 1, 1, 1, 1, 1, 1, 1, 1, 1, 1, 1, 1, 1, 1, 1, 1, 1, 1,\n",
       "       1, 1, 1, 1, 1, 1, 1, 1, 1, 1, 1, 1, 2, 2, 2, 2, 2, 2, 2, 2, 2, 2,\n",
       "       2, 2, 2, 2, 2, 2, 2, 2, 2, 2, 2, 2, 2, 2, 2, 2, 2, 2, 2, 2, 2, 2,\n",
       "       2, 2, 2, 2, 2, 2, 2, 2, 2, 2, 2, 2, 2, 2, 2, 2, 2, 2, 3, 3, 3, 3,\n",
       "       3, 3, 3, 3, 3, 3, 3, 3, 3, 3, 3, 3, 3, 3, 3, 3, 3, 3, 3, 3, 3, 3,\n",
       "       3, 3, 3, 3, 3, 3, 3, 3, 3, 3, 3, 3, 3, 3, 3, 3, 3, 3, 3, 3, 3, 3,\n",
       "       3, 3, 3, 3, 3, 3, 3, 3, 3, 3, 3, 3, 3, 3, 3, 3, 3, 3, 3, 3, 3, 3,\n",
       "       3, 3, 3, 3, 3, 3, 3, 3, 3, 3, 3, 3, 3, 3, 3, 3, 3, 3, 3, 3, 3, 3,\n",
       "       3, 3, 3, 3, 3, 3, 3, 3], dtype=int32)"
      ]
     },
     "execution_count": 29,
     "metadata": {},
     "output_type": "execute_result"
    }
   ],
   "source": [
    "from scipy.cluster.hierarchy import fcluster\n",
    "max_d = 50\n",
    "clusters = fcluster(Z, max_d, criterion='distance')\n",
    "clusters"
   ]
  },
  {
   "cell_type": "markdown",
   "metadata": {},
   "source": [
    "### Use matplotlib to visually observe the clusters in 2D space "
   ]
  },
  {
   "cell_type": "code",
   "execution_count": 30,
   "metadata": {},
   "outputs": [
    {
     "data": {
      "image/png": "[encoded data removed]",
      "text/plain": [
       "<Figure size 720x576 with 1 Axes>"
      ]
     },
     "metadata": {
      "needs_background": "light"
     },
     "output_type": "display_data"
    }
   ],
   "source": [
    "plt.figure(figsize=(10, 8))\n",
    "plt.scatter(X[:,0], X[:,1], c=clusters, cmap='prism')  # plot points with cluster dependent colors\n",
    "plt.show()"
   ]
  }
 ],
 "metadata": {
  "kernelspec": {
   "display_name": "Python 3",
   "language": "python",
   "name": "python3"
  },
  "language_info": {
   "codemirror_mode": {
    "name": "ipython",
    "version": 3
   },
   "file_extension": ".py",
   "mimetype": "text/x-python",
   "name": "python",
   "nbconvert_exporter": "python",
   "pygments_lexer": "ipython3",
   "version": "3.7.0"
  }
 },
 "nbformat": 4,
 "nbformat_minor": 2
}
