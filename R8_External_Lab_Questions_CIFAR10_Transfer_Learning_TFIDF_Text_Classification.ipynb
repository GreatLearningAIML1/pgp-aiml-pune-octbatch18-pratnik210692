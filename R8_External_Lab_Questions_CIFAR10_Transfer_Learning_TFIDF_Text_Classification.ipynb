{
  "nbformat": 4,
  "nbformat_minor": 0,
  "metadata": {
    "colab": {
      "name": "R8_External_Lab_Questions_CIFAR10_Transfer_Learning_TFIDF_Text_Classification.ipynb",
      "version": "0.3.2",
      "provenance": [],
      "collapsed_sections": []
    },
    "kernelspec": {
      "name": "python3",
      "display_name": "Python 3"
    }
  },
  "cells": [
    {
      "cell_type": "markdown",
      "metadata": {
        "id": "QGIsF1ADyJ58",
        "colab_type": "text"
      },
      "source": [
        "# Transfer Learning CIFAR10"
      ]
    },
    {
      "cell_type": "markdown",
      "metadata": {
        "id": "E-n6tVFayGBe",
        "colab_type": "text"
      },
      "source": [
        "* Train a simple convnet on the CIFAR dataset the first 5 output classes [0..4].\n",
        "* Freeze convolutional layers and fine-tune dense layers for the last 5 ouput classes [5..9].\n"
      ]
    },
    {
      "cell_type": "code",
      "metadata": {
        "id": "zuyr7lqbOJd7",
        "colab_type": "code",
        "colab": {}
      },
      "source": [
        "#Importing important modules\n",
        "import numpy as np\n",
        "import pandas as pd\n",
        "import keras\n",
        "import matplotlib.pyplot as plt\n",
        "%matplotlib inline\n",
        "import vis\n",
        "from keras.models import Sequential\n",
        "from keras.layers import Dense, Dropout, Flatten\n",
        "from keras.layers import Conv2D, MaxPooling2D\n",
        "from sklearn.feature_extraction.text import CountVectorizer"
      ],
      "execution_count": 0,
      "outputs": []
    },
    {
      "cell_type": "markdown",
      "metadata": {
        "id": "Cq8ejXHJyGYq",
        "colab_type": "text"
      },
      "source": [
        "### 1. Import CIFAR10 data and create 2 datasets with one dataset having classes from 0 to 4 and other having classes from 5 to 9 "
      ]
    },
    {
      "cell_type": "code",
      "metadata": {
        "id": "uWYbxnBayFUP",
        "colab_type": "code",
        "colab": {
          "base_uri": "https://localhost:8080/",
          "height": 35
        },
        "outputId": "a811bbb6-7949-48f2-efe1-6a3fd06d58cd"
      },
      "source": [
        "from keras.datasets import cifar10\n",
        "(x_train, y_train), (x_test, y_test) = cifar10.load_data()\n",
        "x_train.shape , x_test.shape"
      ],
      "execution_count": 128,
      "outputs": [
        {
          "output_type": "execute_result",
          "data": {
            "text/plain": [
              "((50000, 32, 32, 3), (10000, 32, 32, 3))"
            ]
          },
          "metadata": {
            "tags": []
          },
          "execution_count": 128
        }
      ]
    },
    {
      "cell_type": "code",
      "metadata": {
        "id": "bwto7pydZrdI",
        "colab_type": "code",
        "colab": {
          "base_uri": "https://localhost:8080/",
          "height": 35
        },
        "outputId": "d4b3af2c-195e-4165-e4a8-51eb6eb3a7a5"
      },
      "source": [
        "y_train.shape , y_test.shape"
      ],
      "execution_count": 129,
      "outputs": [
        {
          "output_type": "execute_result",
          "data": {
            "text/plain": [
              "((50000, 1), (10000, 1))"
            ]
          },
          "metadata": {
            "tags": []
          },
          "execution_count": 129
        }
      ]
    },
    {
      "cell_type": "code",
      "metadata": {
        "id": "4n9FJCbLZ_ng",
        "colab_type": "code",
        "colab": {}
      },
      "source": [
        "# Reshaping y to single dimension\n",
        "y_train = y_train.reshape(y_train.shape[0],)\n",
        "y_test  = y_test.reshape(y_test.shape[0],)"
      ],
      "execution_count": 0,
      "outputs": []
    },
    {
      "cell_type": "code",
      "metadata": {
        "id": "lY-pANP-bSYi",
        "colab_type": "code",
        "colab": {
          "base_uri": "https://localhost:8080/",
          "height": 35
        },
        "outputId": "5e9a725e-7db4-4969-c34e-8218db76736b"
      },
      "source": [
        "y_train.shape , y_test.shape"
      ],
      "execution_count": 133,
      "outputs": [
        {
          "output_type": "execute_result",
          "data": {
            "text/plain": [
              "((50000,), (10000,))"
            ]
          },
          "metadata": {
            "tags": []
          },
          "execution_count": 133
        }
      ]
    },
    {
      "cell_type": "code",
      "metadata": {
        "id": "z0PAxqayaJ96",
        "colab_type": "code",
        "colab": {
          "base_uri": "https://localhost:8080/",
          "height": 35
        },
        "outputId": "d8885c02-2a8c-4340-9f31-39a1e42e9f6b"
      },
      "source": [
        "y_train , y_test"
      ],
      "execution_count": 134,
      "outputs": [
        {
          "output_type": "execute_result",
          "data": {
            "text/plain": [
              "(array([6, 9, 9, ..., 9, 1, 1], dtype=uint8), array([3, 8, 8, ..., 5, 1, 7]))"
            ]
          },
          "metadata": {
            "tags": []
          },
          "execution_count": 134
        }
      ]
    },
    {
      "cell_type": "code",
      "metadata": {
        "id": "eFA6EsoCZTvE",
        "colab_type": "code",
        "colab": {
          "base_uri": "https://localhost:8080/",
          "height": 35
        },
        "outputId": "d1e193a3-8560-494e-d103-1e5549c15a21"
      },
      "source": [
        "# Creating dataset 1 having digits from 0 to 4 \n",
        "x_train1 = x_train[y_train < 5]\n",
        "y_train1 = y_train[y_train < 5]\n",
        "x_test1 = x_test[y_test < 5]\n",
        "y_test1 = y_test[y_test < 5]\n",
        "\n",
        "x_train1.shape, x_test1.shape , y_train1.shape , y_test1.shape"
      ],
      "execution_count": 138,
      "outputs": [
        {
          "output_type": "execute_result",
          "data": {
            "text/plain": [
              "((25000, 32, 32, 3), (5000, 32, 32, 3), (25000,), (5000,))"
            ]
          },
          "metadata": {
            "tags": []
          },
          "execution_count": 138
        }
      ]
    },
    {
      "cell_type": "code",
      "metadata": {
        "id": "MUmaRhZkfPyX",
        "colab_type": "code",
        "colab": {
          "base_uri": "https://localhost:8080/",
          "height": 35
        },
        "outputId": "22c704d9-be0f-4867-af8d-85cca8ee2729"
      },
      "source": [
        "# Creating dataset 2 having digits from 5 to 9 \n",
        "x_train2 = x_train[y_train >= 5]\n",
        "y_train2 = y_train[y_train >= 5]-5\n",
        "x_test2 = x_test[y_test >= 5]\n",
        "y_test2 = y_test[y_test >= 5]-5\n",
        "\n",
        "x_train2.shape, x_test2.shape , y_train2.shape , y_test2.shape"
      ],
      "execution_count": 139,
      "outputs": [
        {
          "output_type": "execute_result",
          "data": {
            "text/plain": [
              "((25000, 32, 32, 3), (5000, 32, 32, 3), (25000,), (5000,))"
            ]
          },
          "metadata": {
            "tags": []
          },
          "execution_count": 139
        }
      ]
    },
    {
      "cell_type": "code",
      "metadata": {
        "id": "xxY77fs7Oog2",
        "colab_type": "code",
        "colab": {}
      },
      "source": [
        "# Converting to float 32\n",
        "x_train1 = x_train1.astype('float32')\n",
        "x_test1 = x_test1.astype('float32')\n",
        "x_train2 = x_train2.astype('float32')\n",
        "x_test2 = x_test2.astype('float32')\n",
        "\n",
        "\n",
        "#Normalizing the input\n",
        "x_train1 /= 255\n",
        "x_test1 /= 255\n",
        "x_train2 /= 255\n",
        "x_test2 /= 255"
      ],
      "execution_count": 0,
      "outputs": []
    },
    {
      "cell_type": "markdown",
      "metadata": {
        "id": "xtCKmQh4yXhT",
        "colab_type": "text"
      },
      "source": [
        "### 2. Use One-hot encoding to divide y_train and y_test into required no of output classes"
      ]
    },
    {
      "cell_type": "code",
      "metadata": {
        "id": "uN5O2kJ3yYa6",
        "colab_type": "code",
        "colab": {}
      },
      "source": [
        "# converting into 1 hot encoding with 5 output classes\n",
        "y_train1 = keras.utils.to_categorical(y_train1,5)\n",
        "y_test1 = keras.utils.to_categorical(y_test1,5)\n",
        "\n",
        "y_train2 = keras.utils.to_categorical(y_train2,5)\n",
        "y_test2 = keras.utils.to_categorical(y_test2,5)"
      ],
      "execution_count": 0,
      "outputs": []
    },
    {
      "cell_type": "code",
      "metadata": {
        "id": "cncBXryskWpy",
        "colab_type": "code",
        "colab": {
          "base_uri": "https://localhost:8080/",
          "height": 53
        },
        "outputId": "675bd811-8348-4552-d011-e0298e95ea19"
      },
      "source": [
        "print(y_train1[0]) \n",
        "print(y_train2[0])"
      ],
      "execution_count": 142,
      "outputs": [
        {
          "output_type": "stream",
          "text": [
            "[0. 0. 0. 0. 1.]\n",
            "[0. 1. 0. 0. 0.]\n"
          ],
          "name": "stdout"
        }
      ]
    },
    {
      "cell_type": "markdown",
      "metadata": {
        "id": "cuOiKWfeybAl",
        "colab_type": "text"
      },
      "source": [
        "### 3. Build a sequential neural network model which can classify the classes 0 to 4 of CIFAR10 dataset with at least 80% accuracy on test data"
      ]
    },
    {
      "cell_type": "code",
      "metadata": {
        "id": "5HzxNbiiyoBD",
        "colab_type": "code",
        "colab": {}
      },
      "source": [
        "#Initialize the model\n",
        "model = Sequential()\n",
        "\n",
        "input_shape = (32,32,3)\n",
        "num_classes = 5\n",
        "\n",
        "#Adding a Convolutional Layer with 32 filters of size 3X3 and activation function as 'ReLU' \n",
        "model.add(Conv2D(32, kernel_size=(3, 3),\n",
        "                 activation='relu',\n",
        "                 input_shape=input_shape,name='conv_1'))\n",
        "\n",
        "#Adding a Convolutional Layer with 32 filters of size 3X3 and activation function as 'ReLU' \n",
        "model.add(Conv2D(32, (3, 3), activation='relu',name='conv_2'))\n",
        "\n",
        "#Adding a MaxPooling Layer of size 2X2 \n",
        "model.add(MaxPooling2D(pool_size=(2, 2),name='max_1'))\n",
        "\n",
        "#Applying Dropout with 0.25 probability \n",
        "model.add(Dropout(0.25,name='drop_1'))\n",
        "\n",
        "\n",
        "#Flattening the layer\n",
        "model.add(Flatten())\n",
        "\n",
        "#Adding Fully Connected Layer with 128 units and activation function as 'ReLU'\n",
        "model.add(Dense(128, activation='relu',name='dense_1'))\n",
        "\n",
        "#Applying Dropout with 0.5 probability \n",
        "model.add(Dropout(0.5,name='drop_2'))\n",
        "\n",
        "#Adding Fully Connected Layer with 10 units and activation function as 'softmax'\n",
        "model.add(Dense(num_classes, activat+ion='softmax',name='dense_2'))\n"
      ],
      "execution_count": 0,
      "outputs": []
    },
    {
      "cell_type": "code",
      "metadata": {
        "id": "NdgIyzuak0Km",
        "colab_type": "code",
        "colab": {}
      },
      "source": [
        "from keras.optimizers import Adam\n",
        "from keras.losses import categorical_crossentropy\n",
        "\n",
        "#Using adam optimizer for learning weights with learning rate = 0.001\n",
        "optimizer = Adam(lr=0.001)\n",
        "#Setting the loss function and optimizer for the model training\n",
        "model.compile(loss=categorical_crossentropy,\n",
        "              optimizer=optimizer,\n",
        "              metrics=['accuracy'])"
      ],
      "execution_count": 0,
      "outputs": []
    },
    {
      "cell_type": "code",
      "metadata": {
        "id": "iGppcAjIlC79",
        "colab_type": "code",
        "colab": {
          "base_uri": "https://localhost:8080/",
          "height": 855
        },
        "outputId": "d7ea4bcb-9c14-4a8d-9bac-39cbd9426cdd"
      },
      "source": [
        "#Training on the dataset\n",
        "model.fit(x_train1, y_train1,\n",
        "          batch_size=128,\n",
        "          epochs=20,\n",
        "          verbose=1,\n",
        "          validation_data=(x_test1, y_test1))"
      ],
      "execution_count": 148,
      "outputs": [
        {
          "output_type": "stream",
          "text": [
            "WARNING:tensorflow:From /usr/local/lib/python3.6/dist-packages/tensorflow/python/ops/math_ops.py:3066: to_int32 (from tensorflow.python.ops.math_ops) is deprecated and will be removed in a future version.\n",
            "Instructions for updating:\n",
            "Use tf.cast instead.\n",
            "Train on 25000 samples, validate on 5000 samples\n",
            "Epoch 1/20\n",
            "25000/25000 [==============================] - 76s 3ms/step - loss: 1.1071 - acc: 0.5430 - val_loss: 0.9408 - val_acc: 0.6150\n",
            "Epoch 2/20\n",
            "25000/25000 [==============================] - 76s 3ms/step - loss: 0.8742 - acc: 0.6510 - val_loss: 0.7766 - val_acc: 0.6996\n",
            "Epoch 3/20\n",
            "25000/25000 [==============================] - 76s 3ms/step - loss: 0.7926 - acc: 0.6902 - val_loss: 0.7455 - val_acc: 0.7076\n",
            "Epoch 4/20\n",
            "25000/25000 [==============================] - 76s 3ms/step - loss: 0.7335 - acc: 0.7179 - val_loss: 0.7095 - val_acc: 0.7204\n",
            "Epoch 5/20\n",
            "25000/25000 [==============================] - 76s 3ms/step - loss: 0.6865 - acc: 0.7380 - val_loss: 0.6886 - val_acc: 0.7348\n",
            "Epoch 6/20\n",
            "25000/25000 [==============================] - 75s 3ms/step - loss: 0.6443 - acc: 0.7560 - val_loss: 0.6426 - val_acc: 0.7568\n",
            "Epoch 7/20\n",
            "25000/25000 [==============================] - 76s 3ms/step - loss: 0.6054 - acc: 0.7737 - val_loss: 0.6708 - val_acc: 0.7398\n",
            "Epoch 8/20\n",
            "25000/25000 [==============================] - 76s 3ms/step - loss: 0.5816 - acc: 0.7820 - val_loss: 0.6332 - val_acc: 0.7608\n",
            "Epoch 9/20\n",
            "25000/25000 [==============================] - 76s 3ms/step - loss: 0.5553 - acc: 0.7876 - val_loss: 0.6127 - val_acc: 0.7750\n",
            "Epoch 10/20\n",
            "25000/25000 [==============================] - 75s 3ms/step - loss: 0.5253 - acc: 0.8020 - val_loss: 0.6207 - val_acc: 0.7652\n",
            "Epoch 11/20\n",
            "25000/25000 [==============================] - 76s 3ms/step - loss: 0.5080 - acc: 0.8048 - val_loss: 0.6095 - val_acc: 0.7758\n",
            "Epoch 12/20\n",
            "25000/25000 [==============================] - 75s 3ms/step - loss: 0.4796 - acc: 0.8199 - val_loss: 0.6079 - val_acc: 0.7748\n",
            "Epoch 13/20\n",
            "25000/25000 [==============================] - 76s 3ms/step - loss: 0.4616 - acc: 0.8247 - val_loss: 0.6120 - val_acc: 0.7764\n",
            "Epoch 14/20\n",
            "25000/25000 [==============================] - 75s 3ms/step - loss: 0.4337 - acc: 0.8328 - val_loss: 0.6080 - val_acc: 0.7786\n",
            "Epoch 15/20\n",
            "25000/25000 [==============================] - 75s 3ms/step - loss: 0.4243 - acc: 0.8410 - val_loss: 0.6027 - val_acc: 0.7842\n",
            "Epoch 16/20\n",
            "25000/25000 [==============================] - 75s 3ms/step - loss: 0.4050 - acc: 0.8458 - val_loss: 0.6074 - val_acc: 0.7882\n",
            "Epoch 17/20\n",
            "25000/25000 [==============================] - 75s 3ms/step - loss: 0.3826 - acc: 0.8540 - val_loss: 0.6084 - val_acc: 0.7830\n",
            "Epoch 18/20\n",
            "25000/25000 [==============================] - 75s 3ms/step - loss: 0.3691 - acc: 0.8601 - val_loss: 0.6117 - val_acc: 0.7860\n",
            "Epoch 19/20\n",
            "25000/25000 [==============================] - 75s 3ms/step - loss: 0.3579 - acc: 0.8638 - val_loss: 0.6353 - val_acc: 0.7874\n",
            "Epoch 20/20\n",
            "25000/25000 [==============================] - 76s 3ms/step - loss: 0.3440 - acc: 0.8691 - val_loss: 0.6448 - val_acc: 0.7876\n"
          ],
          "name": "stdout"
        },
        {
          "output_type": "execute_result",
          "data": {
            "text/plain": [
              "<keras.callbacks.History at 0x7f5e31b27a20>"
            ]
          },
          "metadata": {
            "tags": []
          },
          "execution_count": 148
        }
      ]
    },
    {
      "cell_type": "code",
      "metadata": {
        "id": "oNHExRFKIlFY",
        "colab_type": "code",
        "colab": {
          "base_uri": "https://localhost:8080/",
          "height": 72
        },
        "outputId": "640b2f6c-0d04-440d-9ffb-ad29b438ddef"
      },
      "source": [
        "#Testing the model on test set\n",
        "score = model.evaluate(x_test1, y_test1)\n",
        "print('Test loss:', score[0])\n",
        "print('Test accuracy:', score[1])"
      ],
      "execution_count": 153,
      "outputs": [
        {
          "output_type": "stream",
          "text": [
            "5000/5000 [==============================] - 5s 978us/step\n",
            "Test loss: 6.775635061645508\n",
            "Test accuracy: 0.08\n"
          ],
          "name": "stdout"
        }
      ]
    },
    {
      "cell_type": "markdown",
      "metadata": {
        "id": "woTfNst_ynRG",
        "colab_type": "text"
      },
      "source": [
        "### 4. In the model which was built above (for classification of classes 0-4 in CIFAR10), make only the dense layers to be trainable and conv layers to be non-trainable"
      ]
    },
    {
      "cell_type": "code",
      "metadata": {
        "id": "o_VCDB3Byb1a",
        "colab_type": "code",
        "colab": {
          "base_uri": "https://localhost:8080/",
          "height": 308
        },
        "outputId": "7ebc6924-a7bc-4ed5-8b27-270c78a7016e"
      },
      "source": [
        "#Freezing layers in the model which don't have 'dense' in their name\n",
        "for layer in model.layers:\n",
        "  if('dense' not in layer.name): #prefix detection to freeze layers which does not have dense\n",
        "    #Freezing a layer\n",
        "    layer.trainable = False\n",
        "\n",
        "#Module to print colourful statements\n",
        "from termcolor import colored\n",
        "\n",
        "#Check which layers have been frozen \n",
        "for layer in model.layers:\n",
        "  print (colored(layer.name, 'blue'))\n",
        "  print (colored(layer.trainable, 'red'))"
      ],
      "execution_count": 149,
      "outputs": [
        {
          "output_type": "stream",
          "text": [
            "\u001b[34mconv_1\u001b[0m\n",
            "\u001b[31mFalse\u001b[0m\n",
            "\u001b[34mconv_2\u001b[0m\n",
            "\u001b[31mFalse\u001b[0m\n",
            "\u001b[34mmax_1\u001b[0m\n",
            "\u001b[31mFalse\u001b[0m\n",
            "\u001b[34mdrop_1\u001b[0m\n",
            "\u001b[31mFalse\u001b[0m\n",
            "\u001b[34mflatten_2\u001b[0m\n",
            "\u001b[31mFalse\u001b[0m\n",
            "\u001b[34mdense_1\u001b[0m\n",
            "\u001b[31mTrue\u001b[0m\n",
            "\u001b[34mdrop_2\u001b[0m\n",
            "\u001b[31mFalse\u001b[0m\n",
            "\u001b[34mdense_2\u001b[0m\n",
            "\u001b[31mTrue\u001b[0m\n"
          ],
          "name": "stdout"
        }
      ]
    },
    {
      "cell_type": "markdown",
      "metadata": {
        "id": "1-uUPqWpyeyX",
        "colab_type": "text"
      },
      "source": [
        "### 5. Utilize the the model trained on CIFAR 10 (classes 0 to 4) to classify the classes 5 to 9 of CIFAR 10  (Use Transfer Learning) <br>\n",
        "Achieve an accuracy of more than 85% on test data"
      ]
    },
    {
      "cell_type": "code",
      "metadata": {
        "id": "szHjJgDvyfCt",
        "colab_type": "code",
        "colab": {
          "base_uri": "https://localhost:8080/",
          "height": 836
        },
        "outputId": "94d47013-349e-43cf-aa42-fc9ecac289b7"
      },
      "source": [
        "#Training on the dataset\n",
        "model.fit(x_train2, y_train2,\n",
        "          batch_size=128,\n",
        "          epochs=20,\n",
        "          verbose=1,\n",
        "          validation_data=(x_test2, y_test2))"
      ],
      "execution_count": 150,
      "outputs": [
        {
          "output_type": "stream",
          "text": [
            "/usr/local/lib/python3.6/dist-packages/keras/engine/training.py:490: UserWarning: Discrepancy between trainable weights and collected trainable weights, did you set `model.trainable` without calling `model.compile` after ?\n",
            "  'Discrepancy between trainable weights and collected trainable'\n"
          ],
          "name": "stderr"
        },
        {
          "output_type": "stream",
          "text": [
            "Train on 25000 samples, validate on 5000 samples\n",
            "Epoch 1/20\n",
            "25000/25000 [==============================] - 79s 3ms/step - loss: 1.5122 - acc: 0.3554 - val_loss: 1.0333 - val_acc: 0.6232\n",
            "Epoch 2/20\n",
            "25000/25000 [==============================] - 77s 3ms/step - loss: 1.0611 - acc: 0.5756 - val_loss: 0.7193 - val_acc: 0.7346\n",
            "Epoch 3/20\n",
            "25000/25000 [==============================] - 77s 3ms/step - loss: 0.8784 - acc: 0.6561 - val_loss: 0.6498 - val_acc: 0.7606\n",
            "Epoch 4/20\n",
            "25000/25000 [==============================] - 77s 3ms/step - loss: 0.7707 - acc: 0.7043 - val_loss: 0.5615 - val_acc: 0.7978\n",
            "Epoch 5/20\n",
            "25000/25000 [==============================] - 77s 3ms/step - loss: 0.6874 - acc: 0.7431 - val_loss: 0.4980 - val_acc: 0.8150\n",
            "Epoch 6/20\n",
            "25000/25000 [==============================] - 77s 3ms/step - loss: 0.6357 - acc: 0.7649 - val_loss: 0.4540 - val_acc: 0.8358\n",
            "Epoch 7/20\n",
            "25000/25000 [==============================] - 77s 3ms/step - loss: 0.5980 - acc: 0.7824 - val_loss: 0.4447 - val_acc: 0.8358\n",
            "Epoch 8/20\n",
            "25000/25000 [==============================] - 76s 3ms/step - loss: 0.5475 - acc: 0.8024 - val_loss: 0.4299 - val_acc: 0.8430\n",
            "Epoch 9/20\n",
            "25000/25000 [==============================] - 76s 3ms/step - loss: 0.5140 - acc: 0.8115 - val_loss: 0.4177 - val_acc: 0.8494\n",
            "Epoch 10/20\n",
            "25000/25000 [==============================] - 77s 3ms/step - loss: 0.4759 - acc: 0.8264 - val_loss: 0.4020 - val_acc: 0.8508\n",
            "Epoch 11/20\n",
            "25000/25000 [==============================] - 77s 3ms/step - loss: 0.4522 - acc: 0.8346 - val_loss: 0.3998 - val_acc: 0.8562\n",
            "Epoch 12/20\n",
            "25000/25000 [==============================] - 77s 3ms/step - loss: 0.4296 - acc: 0.8421 - val_loss: 0.3998 - val_acc: 0.8588\n",
            "Epoch 13/20\n",
            "25000/25000 [==============================] - 76s 3ms/step - loss: 0.4078 - acc: 0.8488 - val_loss: 0.3824 - val_acc: 0.8620\n",
            "Epoch 14/20\n",
            "25000/25000 [==============================] - 77s 3ms/step - loss: 0.3796 - acc: 0.8598 - val_loss: 0.3847 - val_acc: 0.8598\n",
            "Epoch 15/20\n",
            "25000/25000 [==============================] - 77s 3ms/step - loss: 0.3643 - acc: 0.8653 - val_loss: 0.3759 - val_acc: 0.8680\n",
            "Epoch 16/20\n",
            "25000/25000 [==============================] - 77s 3ms/step - loss: 0.3497 - acc: 0.8711 - val_loss: 0.3718 - val_acc: 0.8710\n",
            "Epoch 17/20\n",
            "25000/25000 [==============================] - 76s 3ms/step - loss: 0.3353 - acc: 0.8746 - val_loss: 0.3894 - val_acc: 0.8626\n",
            "Epoch 18/20\n",
            "25000/25000 [==============================] - 76s 3ms/step - loss: 0.3133 - acc: 0.8838 - val_loss: 0.4116 - val_acc: 0.8600\n",
            "Epoch 19/20\n",
            "25000/25000 [==============================] - 77s 3ms/step - loss: 0.3067 - acc: 0.8843 - val_loss: 0.3749 - val_acc: 0.8752\n",
            "Epoch 20/20\n",
            "25000/25000 [==============================] - 76s 3ms/step - loss: 0.2872 - acc: 0.8940 - val_loss: 0.3821 - val_acc: 0.8718\n"
          ],
          "name": "stdout"
        },
        {
          "output_type": "execute_result",
          "data": {
            "text/plain": [
              "<keras.callbacks.History at 0x7f5e31c42f98>"
            ]
          },
          "metadata": {
            "tags": []
          },
          "execution_count": 150
        }
      ]
    },
    {
      "cell_type": "code",
      "metadata": {
        "id": "i07ALyNVIWhE",
        "colab_type": "code",
        "colab": {
          "base_uri": "https://localhost:8080/",
          "height": 72
        },
        "outputId": "185bc53e-95c7-4126-faec-7188ab256c3a"
      },
      "source": [
        "#Testing the model on test set\n",
        "score = model.evaluate(x_test2, y_test2)\n",
        "print('Test loss:', score[0])\n",
        "print('Test accuracy:', score[1])"
      ],
      "execution_count": 152,
      "outputs": [
        {
          "output_type": "stream",
          "text": [
            "5000/5000 [==============================] - 5s 942us/step\n",
            "Test loss: 0.38211940040588377\n",
            "Test accuracy: 0.8718\n"
          ],
          "name": "stdout"
        }
      ]
    },
    {
      "cell_type": "markdown",
      "metadata": {
        "id": "0zDuRecXzEtr",
        "colab_type": "text"
      },
      "source": [
        "# Text classification using TF-IDF"
      ]
    },
    {
      "cell_type": "markdown",
      "metadata": {
        "id": "xMPlEJhHzb6P",
        "colab_type": "text"
      },
      "source": [
        "### 6. Load the dataset from sklearn.datasets"
      ]
    },
    {
      "cell_type": "code",
      "metadata": {
        "id": "Fe-B59u3zHNb",
        "colab_type": "code",
        "colab": {}
      },
      "source": [
        "from sklearn.datasets import fetch_20newsgroups"
      ],
      "execution_count": 0,
      "outputs": []
    },
    {
      "cell_type": "code",
      "metadata": {
        "id": "PRrMemVQzbHU",
        "colab_type": "code",
        "colab": {}
      },
      "source": [
        "categories = ['alt.atheism', 'soc.religion.christian', 'comp.graphics', 'sci.med']"
      ],
      "execution_count": 0,
      "outputs": []
    },
    {
      "cell_type": "markdown",
      "metadata": {
        "id": "-sZX0UbJzmg5",
        "colab_type": "text"
      },
      "source": [
        "### 7. Training data"
      ]
    },
    {
      "cell_type": "code",
      "metadata": {
        "id": "CITr_5aXziJ2",
        "colab_type": "code",
        "colab": {
          "base_uri": "https://localhost:8080/",
          "height": 53
        },
        "outputId": "2152d3b6-d7e3-436b-f6a2-d1abd18df938"
      },
      "source": [
        "twenty_train = fetch_20newsgroups(subset='train', categories=categories, shuffle=True, random_state=42)"
      ],
      "execution_count": 156,
      "outputs": [
        {
          "output_type": "stream",
          "text": [
            "Downloading 20news dataset. This may take a few minutes.\n",
            "Downloading dataset from https://ndownloader.figshare.com/files/5975967 (14 MB)\n"
          ],
          "name": "stderr"
        }
      ]
    },
    {
      "cell_type": "markdown",
      "metadata": {
        "id": "xcESc5QXzr6p",
        "colab_type": "text"
      },
      "source": [
        "### 8. Test data"
      ]
    },
    {
      "cell_type": "code",
      "metadata": {
        "id": "ysInblUMzpvl",
        "colab_type": "code",
        "colab": {}
      },
      "source": [
        "twenty_test = fetch_20newsgroups(subset='test', categories=categories, shuffle=True, random_state=42)"
      ],
      "execution_count": 0,
      "outputs": []
    },
    {
      "cell_type": "markdown",
      "metadata": {
        "id": "DriL2yZ50DQq",
        "colab_type": "text"
      },
      "source": [
        "###  a.  You can access the values for the target variable using .target attribute \n",
        "###  b. You can access the name of the class in the target variable with .target_names\n"
      ]
    },
    {
      "cell_type": "code",
      "metadata": {
        "id": "vlUuai99z1hX",
        "colab_type": "code",
        "colab": {
          "base_uri": "https://localhost:8080/",
          "height": 35
        },
        "outputId": "15f5183f-aa68-4f17-ab80-3e2f079a4358"
      },
      "source": [
        "twenty_train.target"
      ],
      "execution_count": 158,
      "outputs": [
        {
          "output_type": "execute_result",
          "data": {
            "text/plain": [
              "array([1, 1, 3, ..., 2, 2, 2])"
            ]
          },
          "metadata": {
            "tags": []
          },
          "execution_count": 158
        }
      ]
    },
    {
      "cell_type": "code",
      "metadata": {
        "id": "VEKzaDfSz5E-",
        "colab_type": "code",
        "colab": {
          "base_uri": "https://localhost:8080/",
          "height": 35
        },
        "outputId": "0b0a08a3-ab6c-49b2-fcdc-2014fff0eb3b"
      },
      "source": [
        "twenty_train.target_names"
      ],
      "execution_count": 159,
      "outputs": [
        {
          "output_type": "execute_result",
          "data": {
            "text/plain": [
              "['alt.atheism', 'comp.graphics', 'sci.med', 'soc.religion.christian']"
            ]
          },
          "metadata": {
            "tags": []
          },
          "execution_count": 159
        }
      ]
    },
    {
      "cell_type": "code",
      "metadata": {
        "id": "clBMKHzC0_N1",
        "colab_type": "code",
        "colab": {
          "base_uri": "https://localhost:8080/",
          "height": 128
        },
        "outputId": "09f056c8-e058-4528-96e1-cb6a424aa023"
      },
      "source": [
        "twenty_train.data[0:5]"
      ],
      "execution_count": 160,
      "outputs": [
        {
          "output_type": "execute_result",
          "data": {
            "text/plain": [
              "['From: sd345@city.ac.uk (Michael Collier)\\nSubject: Converting images to HP LaserJet III?\\nNntp-Posting-Host: hampton\\nOrganization: The City University\\nLines: 14\\n\\nDoes anyone know of a good way (standard PC application/PD utility) to\\nconvert tif/img/tga files into LaserJet III format.  We would also like to\\ndo the same, converting to HPGL (HP plotter) files.\\n\\nPlease email any response.\\n\\nIs this the correct group?\\n\\nThanks in advance.  Michael.\\n-- \\nMichael Collier (Programmer)                 The Computer Unit,\\nEmail: M.P.Collier@uk.ac.city                The City University,\\nTel: 071 477-8000 x3769                      London,\\nFax: 071 477-8565                            EC1V 0HB.\\n',\n",
              " \"From: ani@ms.uky.edu (Aniruddha B. Deglurkar)\\nSubject: help: Splitting a trimming region along a mesh \\nOrganization: University Of Kentucky, Dept. of Math Sciences\\nLines: 28\\n\\n\\n\\n\\tHi,\\n\\n\\tI have a problem, I hope some of the 'gurus' can help me solve.\\n\\n\\tBackground of the problem:\\n\\tI have a rectangular mesh in the uv domain, i.e  the mesh is a \\n\\tmapping of a 3d Bezier patch into 2d. The area in this domain\\n\\twhich is inside a trimming loop had to be rendered. The trimming\\n\\tloop is a set of 2d Bezier curve segments.\\n\\tFor the sake of notation: the mesh is made up of cells.\\n\\n\\tMy problem is this :\\n\\tThe trimming area has to be split up into individual smaller\\n\\tcells bounded by the trimming curve segments. If a cell\\n\\tis wholly inside the area...then it is output as a whole ,\\n\\telse it is trivially rejected. \\n\\n\\tDoes any body know how thiss can be done, or is there any algo. \\n\\tsomewhere for doing this.\\n\\n\\tAny help would be appreciated.\\n\\n\\tThanks, \\n\\tAni.\\n-- \\nTo get irritated is human, to stay cool, divine.\\n\",\n",
              " \"From: djohnson@cs.ucsd.edu (Darin Johnson)\\nSubject: Re: harrassed at work, could use some prayers\\nOrganization: =CSE Dept., U.C. San Diego\\nLines: 63\\n\\n(Well, I'll email also, but this may apply to other people, so\\nI'll post also.)\\n\\n>I've been working at this company for eight years in various\\n>engineering jobs.  I'm female.  Yesterday I counted and realized that\\n>on seven different occasions I've been sexually harrassed at this\\n>company.\\n\\n>I dreaded coming back to work today.  What if my boss comes in to ask\\n>me some kind of question...\\n\\nYour boss should be the person bring these problems to.  If he/she\\ndoes not seem to take any action, keep going up higher and higher.\\nSexual harrassment does not need to be tolerated, and it can be an\\nenormous emotional support to discuss this with someone and know that\\nthey are trying to do something about it.  If you feel you can not\\ndiscuss this with your boss, perhaps your company has a personnel\\ndepartment that can work for you while preserving your privacy.  Most\\ncompanies will want to deal with this problem because constant anxiety\\ndoes seriously affect how effectively employees do their jobs.\\n\\nIt is unclear from your letter if you have done this or not.  It is\\nnot inconceivable that management remains ignorant of employee\\nproblems/strife even after eight years (it's a miracle if they do\\nnotice).  Perhaps your manager did not bring to the attention of\\nhigher ups?  If the company indeed does seem to want to ignore the\\nentire problem, there may be a state agency willing to fight with\\nyou.  (check with a lawyer, a women's resource center, etc to find out)\\n\\nYou may also want to discuss this with your paster, priest, husband,\\netc.  That is, someone you know will not be judgemental and that is\\nsupportive, comforting, etc.  This will bring a lot of healing.\\n\\n>So I returned at 11:25, only to find that ever single\\n>person had already left for lunch.  They left at 11:15 or so.  No one\\n>could be bothered to call me at the other building, even though my\\n>number was posted.\\n\\nThis happens to a lot of people.  Honest.  I believe it may seem\\nto be due to gross insensitivity because of the feelings you are\\ngoing through.  People in offices tend to be more insensitive while\\nworking than they normally are (maybe it's the hustle or stress or...)\\nI've had this happen to me a lot, often because they didn't realize\\nmy car was broken, etc.  Then they will come back and wonder why I\\ndidn't want to go (this would tend to make me stop being angry at\\nbeing ignored and make me laugh).  Once, we went off without our\\nboss, who was paying for the lunch :-)\\n\\n>For this\\n>reason I hope good Mr. Moderator allows me this latest indulgence.\\n\\nWell, if you can't turn to the computer for support, what would\\nwe do?  (signs of the computer age :-)\\n\\nIn closing, please don't let the hateful actions of a single person\\nharm you.  They are doing it because they are still the playground\\nbully and enjoy seeing the hurt they cause.  And you should not\\naccept the opinions of an imbecile that you are worthless - much\\nwiser people hold you in great esteem.\\n-- \\nDarin Johnson\\ndjohnson@ucsd.edu\\n  - Luxury!  In MY day, we had to make do with 5 bytes of swap...\\n\",\n",
              " 'From: s0612596@let.rug.nl (M.M. Zwart)\\nSubject: catholic church poland\\nOrganization: Faculteit der Letteren, Rijksuniversiteit Groningen, NL\\nLines: 10\\n\\nHello,\\n\\nI\\'m writing a paper on the role of the catholic church in Poland after 1989. \\nCan anyone tell me more about this, or fill me in on recent books/articles(\\nin english, german or french). Most important for me is the role of the \\nchurch concerning the abortion-law, religious education at schools,\\nbirth-control and the relation church-state(government). Thanx,\\n\\n                                                 Masja,\\n\"M.M.Zwart\"<s0612596@let.rug.nl>\\n',\n",
              " 'From: stanly@grok11.columbiasc.ncr.com (stanly)\\nSubject: Re: Elder Brother\\nOrganization: NCR Corp., Columbia SC\\nLines: 15\\n\\nIn article <Apr.8.00.57.41.1993.28246@athos.rutgers.edu> REXLEX@fnal.gov writes:\\n>In article <Apr.7.01.56.56.1993.22824@athos.rutgers.edu> shrum@hpfcso.fc.hp.com\\n>Matt. 22:9-14 \\'Go therefore to the main highways, and as many as you find\\n>there, invite to the wedding feast.\\'...\\n\\n>hmmmmmm.  Sounds like your theology and Christ\\'s are at odds. Which one am I \\n>to believe?\\n\\nIn this parable, Jesus tells the parable of the wedding feast. \"The kingdom\\nof heaven is like unto a certain king which made a marriage for his son\".\\nSo the wedding clothes were customary,  and \"given\" to those who \"chose\" to\\nattend.  This man \"refused\" to wear the clothes.  The wedding clothes are\\nequalivant to the \"clothes of righteousness\".  When Jesus died for our sins,\\nthose \"clothes\" were then provided.  Like that man, it is our decision to\\nput the clothes on.\\n']"
            ]
          },
          "metadata": {
            "tags": []
          },
          "execution_count": 160
        }
      ]
    },
    {
      "cell_type": "markdown",
      "metadata": {
        "id": "hTz4EaN_1WGc",
        "colab_type": "text"
      },
      "source": [
        "### 9.  Now with dependent and independent data available for both train and test datasets, using TfidfVectorizer fit and transform the training data and test data and get the tfidf features for both"
      ]
    },
    {
      "cell_type": "code",
      "metadata": {
        "id": "H5G477f81C0Z",
        "colab_type": "code",
        "colab": {}
      },
      "source": [
        "CountVect            = CountVectorizer(analyzer = \"word\")\n",
        "train_data_features  = CountVect.fit(twenty_train.data)\n",
        "CountVectData        = CountVect.transform(twenty_train.data)"
      ],
      "execution_count": 0,
      "outputs": []
    },
    {
      "cell_type": "code",
      "metadata": {
        "id": "Xfcd4JpuRPZI",
        "colab_type": "code",
        "colab": {
          "base_uri": "https://localhost:8080/",
          "height": 53
        },
        "outputId": "ed6aae4e-d562-4775-dafe-79d66e79ac94"
      },
      "source": [
        "print (\"The count of different number of words is\")\n",
        "len(CountVect.get_feature_names())"
      ],
      "execution_count": 173,
      "outputs": [
        {
          "output_type": "stream",
          "text": [
            "The count of different number of words is\n"
          ],
          "name": "stdout"
        },
        {
          "output_type": "execute_result",
          "data": {
            "text/plain": [
              "35788"
            ]
          },
          "metadata": {
            "tags": []
          },
          "execution_count": 173
        }
      ]
    },
    {
      "cell_type": "code",
      "metadata": {
        "id": "RJE39IGsZQJO",
        "colab_type": "code",
        "colab": {}
      },
      "source": [
        "x_train = CountVect.transform(twenty_train.data)\n",
        "y_train = twenty_train.target"
      ],
      "execution_count": 0,
      "outputs": []
    },
    {
      "cell_type": "code",
      "metadata": {
        "id": "84goqCVmZU6I",
        "colab_type": "code",
        "colab": {}
      },
      "source": [
        "x_test=CountVect.transform(twenty_test.data)\n",
        "y_test=twenty_test.target"
      ],
      "execution_count": 0,
      "outputs": []
    },
    {
      "cell_type": "markdown",
      "metadata": {
        "id": "tp_fDINJ1t4L",
        "colab_type": "text"
      },
      "source": [
        "### 10. Use logisticRegression with tfidf features as input and targets as output and train the model and report the train and test accuracy score"
      ]
    },
    {
      "cell_type": "code",
      "metadata": {
        "id": "QPKLFJXnW4Cm",
        "colab_type": "code",
        "colab": {
          "base_uri": "https://localhost:8080/",
          "height": 182
        },
        "outputId": "7fe0293a-9e02-4066-ea56-ff13bbccd5fb"
      },
      "source": [
        "model_LR = LogisticRegression()\n",
        "model_LR.fit(x_train,y_train)"
      ],
      "execution_count": 218,
      "outputs": [
        {
          "output_type": "stream",
          "text": [
            "/usr/local/lib/python3.6/dist-packages/sklearn/linear_model/logistic.py:433: FutureWarning: Default solver will be changed to 'lbfgs' in 0.22. Specify a solver to silence this warning.\n",
            "  FutureWarning)\n",
            "/usr/local/lib/python3.6/dist-packages/sklearn/linear_model/logistic.py:460: FutureWarning: Default multi_class will be changed to 'auto' in 0.22. Specify the multi_class option to silence this warning.\n",
            "  \"this warning.\", FutureWarning)\n"
          ],
          "name": "stderr"
        },
        {
          "output_type": "execute_result",
          "data": {
            "text/plain": [
              "LogisticRegression(C=1.0, class_weight=None, dual=False, fit_intercept=True,\n",
              "          intercept_scaling=1, max_iter=100, multi_class='warn',\n",
              "          n_jobs=None, penalty='l2', random_state=None, solver='warn',\n",
              "          tol=0.0001, verbose=0, warm_start=False)"
            ]
          },
          "metadata": {
            "tags": []
          },
          "execution_count": 218
        }
      ]
    },
    {
      "cell_type": "code",
      "metadata": {
        "id": "ArG7qW1aVQfJ",
        "colab_type": "code",
        "colab": {
          "base_uri": "https://localhost:8080/",
          "height": 35
        },
        "outputId": "13b70aad-28d7-44f8-f7be-46bd33296190"
      },
      "source": [
        "from sklearn import metrics\n",
        "y_train_pred = model_LR.predict(x_train)\n",
        "print(\"Logistic Regresion model train accuracy(in %):\",\n",
        "metrics.accuracy_score(y_train, y_train_pred)*100)"
      ],
      "execution_count": 219,
      "outputs": [
        {
          "output_type": "stream",
          "text": [
            "Logistic Regresion model train accuracy(in %): 100.0\n"
          ],
          "name": "stdout"
        }
      ]
    },
    {
      "cell_type": "code",
      "metadata": {
        "id": "71QMyAJIKDlX",
        "colab_type": "code",
        "colab": {
          "base_uri": "https://localhost:8080/",
          "height": 35
        },
        "outputId": "5542dce0-750d-48ba-b195-3bed1c564de3"
      },
      "source": [
        "\n",
        "y_test_pred = model_LR.predict(x_test)\n",
        "print(\"Logistic Regresion model test accuracy(in %):\",\n",
        "metrics.accuracy_score(y_test, y_test_pred)*100)"
      ],
      "execution_count": 220,
      "outputs": [
        {
          "output_type": "stream",
          "text": [
            "Logistic Regresion model test accuracy(in %): 90.14647137150466\n"
          ],
          "name": "stdout"
        }
      ]
    }
  ]
}