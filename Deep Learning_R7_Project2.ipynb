{
  "nbformat": 4,
  "nbformat_minor": 0,
  "metadata": {
    "colab": {
      "name": "INN_Residency7_Project2.ipynb",
      "version": "0.3.2",
      "provenance": []
    },
    "kernelspec": {
      "name": "python3",
      "display_name": "Python 3"
    }
  },
  "cells": [
    {
      "cell_type": "code",
      "metadata": {
        "id": "LZlr8mjR_iy0",
        "colab_type": "code",
        "colab": {}
      },
      "source": [
        "import tensorflow as tf\n",
        "import pandas as pd\n",
        "import numpy as np\n",
        "import h5py\n",
        "import keras\n",
        "import matplotlib.pyplot as plt\n",
        "%matplotlib inline\n",
        "from keras.models import Sequential, Model\n",
        "from keras.optimizers import SGD, RMSprop, Adam, Nadam\n",
        "from keras.callbacks import ModelCheckpoint\n",
        "from keras.preprocessing.image import ImageDataGenerator\n",
        "from keras.utils import to_categorical\n",
        "from keras.layers import Dense, Dropout, LSTM\n",
        "from keras.layers import Activation, Flatten, Input, BatchNormalization\n",
        "from keras.layers import Conv1D, MaxPooling1D \n",
        "from keras.layers import Conv2D, MaxPooling2D\n",
        "from keras.layers import GlobalAveragePooling2D, GlobalMaxPooling2D"
      ],
      "execution_count": 0,
      "outputs": []
    },
    {
      "cell_type": "code",
      "metadata": {
        "id": "x_aZVKIM_41-",
        "colab_type": "code",
        "outputId": "10a82f5f-ee8c-4718-f6d6-a843c7d3b2cb",
        "colab": {
          "base_uri": "https://localhost:8080/",
          "height": 34
        }
      },
      "source": [
        "from google.colab import drive\n",
        "drive.mount('/gdrive')"
      ],
      "execution_count": 54,
      "outputs": [
        {
          "output_type": "stream",
          "text": [
            "Drive already mounted at /gdrive; to attempt to forcibly remount, call drive.mount(\"/gdrive\", force_remount=True).\n"
          ],
          "name": "stdout"
        }
      ]
    },
    {
      "cell_type": "code",
      "metadata": {
        "id": "h5yw8x3uBZuR",
        "colab_type": "code",
        "colab": {}
      },
      "source": [
        "# Open the file as readonly. The file should be present inside a directory called \"data\" in the same folder as code\n",
        "h5f = h5py.File('/gdrive/My Drive/SVHN_single_grey1.h5', 'r')"
      ],
      "execution_count": 0,
      "outputs": []
    },
    {
      "cell_type": "code",
      "metadata": {
        "id": "X6FDK0xl_41c",
        "colab_type": "code",
        "colab": {}
      },
      "source": [
        "x_train = h5f['X_train'][:]\n",
        "y_train = h5f['y_train'][:]\n",
        "x_test = h5f['X_test'][:]\n",
        "y_test = h5f['y_test'][:]\n",
        "x_val = h5f['X_val'][:]\n",
        "y_val = h5f['y_val'][:]"
      ],
      "execution_count": 0,
      "outputs": []
    },
    {
      "cell_type": "code",
      "metadata": {
        "id": "sh4heRXR8Y7z",
        "colab_type": "code",
        "colab": {
          "base_uri": "https://localhost:8080/",
          "height": 68
        },
        "outputId": "724b0b6a-5228-4df5-808e-4822a58934f9"
      },
      "source": [
        "#Importing opencv module for the resizing function\n",
        "import cv2\n",
        "\n",
        "#Create a resized dataset for training and testing inputs with corresponding size. Here we are resizing it to 28X28 (same input size as MNIST)\n",
        "x_train_res = np.zeros((x_train.shape[0],28,28), dtype=np.float32)\n",
        "for i in range(x_train.shape[0]):\n",
        "  #using cv2.resize to resize each train example to 28X28 size using Cubic interpolation\n",
        "  x_train_res[i,:,:] = cv2.resize(x_train[i], dsize=(28, 28), interpolation=cv2.INTER_CUBIC)\n",
        "\n",
        "x_test_res = np.zeros((x_test.shape[0],28,28), dtype=np.float32)\n",
        "for i in range(x_test.shape[0]):\n",
        "  #using cv2.resize to resize each test example to 28X28 size using Cubic interpolation\n",
        "  x_test_res[i,:,:] = cv2.resize(x_test[i], dsize=(28, 28), interpolation=cv2.INTER_CUBIC)\n",
        "\n",
        "x_val_res = np.zeros((x_val.shape[0],28,28), dtype=np.float32)\n",
        "for i in range(x_test.shape[0]):\n",
        "  #using cv2.resize to resize each test example to 28X28 size using Cubic interpolation\n",
        "  x_val_res[i,:,:] = cv2.resize(x_val[i], dsize=(28, 28), interpolation=cv2.INTER_CUBIC)  \n",
        "  \n",
        "#We don't need the original dataset anynmore so we can clear up memory consumed by original dataset\n",
        "del x_train\n",
        "del x_test\n",
        "del x_val\n",
        "\n",
        "print(x_train_res.shape)\n",
        "print(x_test_res.shape)\n",
        "print(x_val_res.shape)\n",
        "\n",
        "# input image dimensions\n",
        "img_rows, img_cols = 28, 28\n",
        "\n",
        "#Keras expects data to be in the format (N_E.N_H,N_W,N_C)  N_E = Number of Examples, N_H = height, N_W = Width, N_C = Number of Channels.\n",
        "x_train = x_train_res.reshape(x_train_res.shape[0], img_rows, img_cols, 1)\n",
        "x_test = x_test_res.reshape(x_test_res.shape[0], img_rows, img_cols, 1)\n",
        "x_val = x_val_res.reshape(x_val_res.shape[0], img_rows, img_cols, 1)\n",
        "input_shape = (img_rows, img_cols, 1)"
      ],
      "execution_count": 58,
      "outputs": [
        {
          "output_type": "stream",
          "text": [
            "(42000, 28, 28)\n",
            "(18000, 28, 28)\n",
            "(60000, 28, 28)\n"
          ],
          "name": "stdout"
        }
      ]
    },
    {
      "cell_type": "code",
      "metadata": {
        "id": "2rT37BlA70Yz",
        "colab_type": "code",
        "colab": {}
      },
      "source": [
        "y_train = keras.utils.to_categorical(y_train, 10)\n",
        "y_test = keras.utils.to_categorical(y_test, 10)\n",
        "y_val = keras.utils.to_categorical(y_val, 10)"
      ],
      "execution_count": 0,
      "outputs": []
    },
    {
      "cell_type": "code",
      "metadata": {
        "id": "sKmityMyALWm",
        "colab_type": "code",
        "colab": {}
      },
      "source": [
        "h5f.close()"
      ],
      "execution_count": 0,
      "outputs": []
    },
    {
      "cell_type": "code",
      "metadata": {
        "id": "fjRA2P0NCgT6",
        "colab_type": "code",
        "outputId": "3180c283-f540-4eff-98ab-5b2aaca7aa3d",
        "colab": {
          "base_uri": "https://localhost:8080/",
          "height": 68
        }
      },
      "source": [
        "print('Training set', x_train.shape, y_train.shape)\n",
        "print('Validation set', x_val.shape, y_val.shape)\n",
        "print('Test set', x_test.shape, y_test.shape)"
      ],
      "execution_count": 61,
      "outputs": [
        {
          "output_type": "stream",
          "text": [
            "Training set (42000, 28, 28, 1) (42000, 10)\n",
            "Validation set (60000, 28, 28, 1) (60000, 10)\n",
            "Test set (18000, 28, 28, 1) (18000, 10)\n"
          ],
          "name": "stdout"
        }
      ]
    },
    {
      "cell_type": "code",
      "metadata": {
        "id": "0njxOk5BCqD3",
        "colab_type": "code",
        "colab": {}
      },
      "source": [
        "#Initialize the model\n",
        "model = Sequential()\n",
        "\n",
        "#Add a Convolutional Layer with 32 filters of size 3X3 and activation function as 'ReLU' \n",
        "model.add(Conv2D(32, kernel_size=(3, 3),\n",
        "                 activation='relu',\n",
        "                 input_shape=input_shape,name='conv_1'))\n",
        "\n",
        "#Add a Convolutional Layer with 64 filters of size 3X3 and activation function as 'ReLU' \n",
        "model.add(Conv2D(64, (3, 3), activation='relu',name='conv_2'))\n",
        "\n",
        "#Add a MaxPooling Layer of size 2X2 \n",
        "model.add(MaxPooling2D(pool_size=(2, 2),name='max_1'))\n",
        "\n",
        "#Apply Dropout with 0.25 probability \n",
        "model.add(Dropout(0.25,name='drop_1'))\n",
        "\n",
        "#Flatten the layer\n",
        "model.add(Flatten())\n",
        "\n",
        "#Add Fully Connected Layer with 128 units and activation function as 'ReLU'\n",
        "model.add(Dense(128, activation='relu',name='dense_1'))\n",
        "\n",
        "#Apply Dropout with 0.5 probability \n",
        "model.add(Dropout(0.5,name='drop_2'))\n",
        "\n",
        "#Add Fully Connected Layer with 10 units and activation function as 'softmax'\n",
        "model.add(Dense(10, activation='softmax',name='dense_2'))"
      ],
      "execution_count": 0,
      "outputs": []
    },
    {
      "cell_type": "code",
      "metadata": {
        "id": "DnRBzkiVDDS0",
        "colab_type": "code",
        "colab": {}
      },
      "source": [
        "from keras.optimizers import Adam\n",
        "from keras.losses import categorical_crossentropy\n",
        "\n",
        "#To use adam optimizer for learning weights with learning rate = 0.001\n",
        "optimizer = Adam(lr=0.001)\n",
        "#Set the loss function and optimizer for the model training\n",
        "model.compile(loss=categorical_crossentropy,\n",
        "              optimizer=optimizer,\n",
        "              metrics=['accuracy'])\n"
      ],
      "execution_count": 0,
      "outputs": []
    },
    {
      "cell_type": "code",
      "metadata": {
        "id": "vNtuz_p2EN7W",
        "colab_type": "code",
        "outputId": "fd041301-eb90-4825-d833-bc85ce725122",
        "colab": {
          "base_uri": "https://localhost:8080/",
          "height": 782
        }
      },
      "source": [
        "model.fit(x_train, y_train,\n",
        "          batch_size=128,\n",
        "          epochs=20,\n",
        "          verbose=1,\n",
        "          validation_data=(x_test, y_test))"
      ],
      "execution_count": 64,
      "outputs": [
        {
          "output_type": "stream",
          "text": [
            "WARNING:tensorflow:From /usr/local/lib/python3.6/dist-packages/tensorflow/python/ops/math_ops.py:3066: to_int32 (from tensorflow.python.ops.math_ops) is deprecated and will be removed in a future version.\n",
            "Instructions for updating:\n",
            "Use tf.cast instead.\n",
            "Train on 42000 samples, validate on 18000 samples\n",
            "Epoch 1/20\n",
            "42000/42000 [==============================] - 127s 3ms/step - loss: 2.8351 - acc: 0.4685 - val_loss: 0.7054 - val_acc: 0.8048\n",
            "Epoch 2/20\n",
            "42000/42000 [==============================] - 127s 3ms/step - loss: 0.8698 - acc: 0.7314 - val_loss: 0.5905 - val_acc: 0.8362\n",
            "Epoch 3/20\n",
            "42000/42000 [==============================] - 128s 3ms/step - loss: 0.7223 - acc: 0.7795 - val_loss: 0.5055 - val_acc: 0.8566\n",
            "Epoch 4/20\n",
            "42000/42000 [==============================] - 128s 3ms/step - loss: 0.6422 - acc: 0.8028 - val_loss: 0.4831 - val_acc: 0.8625\n",
            "Epoch 5/20\n",
            "42000/42000 [==============================] - 127s 3ms/step - loss: 0.5749 - acc: 0.8215 - val_loss: 0.4523 - val_acc: 0.8708\n",
            "Epoch 6/20\n",
            "42000/42000 [==============================] - 128s 3ms/step - loss: 0.5241 - acc: 0.8379 - val_loss: 0.4209 - val_acc: 0.8811\n",
            "Epoch 7/20\n",
            "42000/42000 [==============================] - 127s 3ms/step - loss: 0.4858 - acc: 0.8497 - val_loss: 0.4268 - val_acc: 0.8819\n",
            "Epoch 8/20\n",
            "42000/42000 [==============================] - 128s 3ms/step - loss: 0.4625 - acc: 0.8563 - val_loss: 0.3964 - val_acc: 0.8886\n",
            "Epoch 9/20\n",
            "42000/42000 [==============================] - 128s 3ms/step - loss: 0.4280 - acc: 0.8670 - val_loss: 0.3720 - val_acc: 0.8953\n",
            "Epoch 10/20\n",
            "42000/42000 [==============================] - 127s 3ms/step - loss: 0.3979 - acc: 0.8745 - val_loss: 0.3743 - val_acc: 0.8949\n",
            "Epoch 11/20\n",
            "42000/42000 [==============================] - 128s 3ms/step - loss: 0.3710 - acc: 0.8816 - val_loss: 0.3728 - val_acc: 0.8928\n",
            "Epoch 12/20\n",
            "42000/42000 [==============================] - 128s 3ms/step - loss: 0.3633 - acc: 0.8860 - val_loss: 0.3548 - val_acc: 0.9008\n",
            "Epoch 13/20\n",
            "42000/42000 [==============================] - 128s 3ms/step - loss: 0.3369 - acc: 0.8938 - val_loss: 0.3718 - val_acc: 0.8976\n",
            "Epoch 14/20\n",
            "42000/42000 [==============================] - 128s 3ms/step - loss: 0.3277 - acc: 0.8966 - val_loss: 0.3563 - val_acc: 0.9022\n",
            "Epoch 15/20\n",
            "42000/42000 [==============================] - 127s 3ms/step - loss: 0.3068 - acc: 0.9025 - val_loss: 0.3621 - val_acc: 0.9021\n",
            "Epoch 16/20\n",
            "42000/42000 [==============================] - 128s 3ms/step - loss: 0.3019 - acc: 0.9035 - val_loss: 0.3736 - val_acc: 0.9004\n",
            "Epoch 17/20\n",
            "42000/42000 [==============================] - 127s 3ms/step - loss: 0.2889 - acc: 0.9081 - val_loss: 0.3611 - val_acc: 0.9040\n",
            "Epoch 18/20\n",
            "42000/42000 [==============================] - 128s 3ms/step - loss: 0.2786 - acc: 0.9119 - val_loss: 0.3569 - val_acc: 0.9055\n",
            "Epoch 19/20\n",
            "42000/42000 [==============================] - 127s 3ms/step - loss: 0.2590 - acc: 0.9182 - val_loss: 0.3668 - val_acc: 0.9058\n",
            "Epoch 20/20\n",
            "42000/42000 [==============================] - 127s 3ms/step - loss: 0.2549 - acc: 0.9170 - val_loss: 0.3596 - val_acc: 0.9064\n"
          ],
          "name": "stdout"
        },
        {
          "output_type": "execute_result",
          "data": {
            "text/plain": [
              "<keras.callbacks.History at 0x7f9799031eb8>"
            ]
          },
          "metadata": {
            "tags": []
          },
          "execution_count": 64
        }
      ]
    },
    {
      "cell_type": "code",
      "metadata": {
        "id": "_ZEgLs5nESeA",
        "colab_type": "code",
        "colab": {
          "base_uri": "https://localhost:8080/",
          "height": 817
        },
        "outputId": "744b953c-55a9-433e-a24a-59ecd759f40a"
      },
      "source": [
        "plt.figure(figsize=(2,2))\n",
        "plt.imshow(x_test[3].reshape(28,28),cmap=\"gray\")\n",
        "plt.show()\n",
        "print(np.argmax(model.predict(x_test[3].reshape(1,28,28,1))))\n",
        "\n",
        "\n",
        "plt.figure(figsize=(2,2))\n",
        "plt.imshow(x_test[2].reshape(28,28),cmap=\"gray\")\n",
        "plt.show()\n",
        "print(np.argmax(model.predict(x_test[2].reshape(1,28,28,1))))\n",
        "\n",
        "\n",
        "plt.figure(figsize=(2,2))\n",
        "plt.imshow(x_test[33].reshape(28,28),cmap=\"gray\")\n",
        "plt.show()\n",
        "print(np.argmax(model.predict(x_test[33].reshape(1,28,28,1))))\n",
        "\n",
        "\n",
        "plt.figure(figsize=(2,2))\n",
        "plt.imshow(x_test[59].reshape(28,28),cmap=\"gray\")\n",
        "plt.show()\n",
        "print(np.argmax(model.predict(x_test[59].reshape(1,28,28,1))))\n",
        "\n",
        "\n",
        "plt.figure(figsize=(2,2))\n",
        "plt.imshow(x_test[36].reshape(28,28),cmap=\"gray\")\n",
        "plt.show()\n",
        "print(np.argmax(model.predict(x_test[36].reshape(1,28,28,1))))"
      ],
      "execution_count": 65,
      "outputs": [
        {
          "output_type": "display_data",
          "data": {
            "image/png": "[encoded data removed]",
            "text/plain": [
              "<Figure size 144x144 with 1 Axes>"
            ]
          },
          "metadata": {
            "tags": []
          }
        },
        {
          "output_type": "stream",
          "text": [
            "9\n"
          ],
          "name": "stdout"
        },
        {
          "output_type": "display_data",
          "data": {
            "image/png": "[encoded data removed]",
            "text/plain": [
              "<Figure size 144x144 with 1 Axes>"
            ]
          },
          "metadata": {
            "tags": []
          }
        },
        {
          "output_type": "stream",
          "text": [
            "2\n"
          ],
          "name": "stdout"
        },
        {
          "output_type": "display_data",
          "data": {
            "image/png": "[encoded data removed]",
            "text/plain": [
              "<Figure size 144x144 with 1 Axes>"
            ]
          },
          "metadata": {
            "tags": []
          }
        },
        {
          "output_type": "stream",
          "text": [
            "1\n"
          ],
          "name": "stdout"
        },
        {
          "output_type": "display_data",
          "data": {
            "image/png": "[encoded data removed]",
            "text/plain": [
              "<Figure size 144x144 with 1 Axes>"
            ]
          },
          "metadata": {
            "tags": []
          }
        },
        {
          "output_type": "stream",
          "text": [
            "9\n"
          ],
          "name": "stdout"
        },
        {
          "output_type": "display_data",
          "data": {
            "image/png": "[encoded data removed]",
            "text/plain": [
              "<Figure size 144x144 with 1 Axes>"
            ]
          },
          "metadata": {
            "tags": []
          }
        },
        {
          "output_type": "stream",
          "text": [
            "5\n"
          ],
          "name": "stdout"
        }
      ]
    },
    {
      "cell_type": "code",
      "metadata": {
        "id": "hwpaVGzadrdJ",
        "colab_type": "code",
        "colab": {}
      },
      "source": [
        ""
      ],
      "execution_count": 0,
      "outputs": []
    }
  ]
}